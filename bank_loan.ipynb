{
 "cells": [
  {
   "cell_type": "code",
   "execution_count": 1,
   "metadata": {
    "collapsed": true
   },
   "outputs": [],
   "source": [
    "import numpy as np \n",
    "import pandas as pd\n",
    "import matplotlib.pyplot as plt\n",
    "import seaborn as sns\n",
    "\n",
    "from sklearn.preprocessing import StandardScaler\n",
    "from sklearn.model_selection import train_test_split, KFold, GridSearchCV, StratifiedKFold, cross_val_score, cross_val_predict\n",
    "from sklearn.neighbors import KNeighborsClassifier\n",
    "from sklearn.metrics import f1_score, roc_auc_score,log_loss, confusion_matrix, precision_score, recall_score, accuracy_score \n",
    "from sklearn import linear_model, ensemble , tree \n",
    "from sklearn.tree import DecisionTreeClassifier\n",
    "from sklearn.ensemble import RandomForestClassifier , VotingClassifier\n",
    "from sklearn.linear_model import LogisticRegression\n",
    "import imblearn.over_sampling\n",
    "from sklearn.svm import SVC  \n",
    "from sklearn.utils import class_weight\n",
    "import statsmodels.api as sm\n",
    "from sklearn.pipeline import Pipeline, make_pipeline\n",
    "from imblearn.over_sampling import SMOTE\n",
    "from imblearn.pipeline import Pipeline as imbpipeline, make_pipeline \n",
    "from sklearn.metrics import precision_recall_curve\n",
    "from sklearn.ensemble import BaggingClassifier\n",
    "from sklearn.ensemble import ExtraTreesClassifier\n",
    "from mlxtend.classifier import StackingClassifier\n",
    "from sklearn.ensemble import AdaBoostClassifier\n",
    "from sklearn.ensemble import GradientBoostingClassifier\n",
    "from xgboost import XGBClassifier\n",
    "from sklearn.metrics import accuracy_score\n",
    "from sklearn.linear_model import LogisticRegressionCV\n",
    "import sklearn.metrics as metrics"
   ]
  },
  {
   "cell_type": "markdown",
   "metadata": {},
   "source": [
    "# データクレンジング "
   ]
  },
  {
   "cell_type": "markdown",
   "metadata": {},
   "source": [
    "・欠損値処理"
   ]
  },
  {
   "cell_type": "code",
   "execution_count": 2,
   "metadata": {},
   "outputs": [
    {
     "data": {
      "text/html": [
       "<div>\n",
       "<style scoped>\n",
       "    .dataframe tbody tr th:only-of-type {\n",
       "        vertical-align: middle;\n",
       "    }\n",
       "\n",
       "    .dataframe tbody tr th {\n",
       "        vertical-align: top;\n",
       "    }\n",
       "\n",
       "    .dataframe thead th {\n",
       "        text-align: right;\n",
       "    }\n",
       "</style>\n",
       "<table border=\"1\" class=\"dataframe\">\n",
       "  <thead>\n",
       "    <tr style=\"text-align: right;\">\n",
       "      <th></th>\n",
       "      <th>Loan ID</th>\n",
       "      <th>Customer ID</th>\n",
       "      <th>Loan Status</th>\n",
       "      <th>Current Loan Amount</th>\n",
       "      <th>Term</th>\n",
       "      <th>Credit Score</th>\n",
       "      <th>Annual Income</th>\n",
       "      <th>Years in current job</th>\n",
       "      <th>Home Ownership</th>\n",
       "      <th>Purpose</th>\n",
       "      <th>Monthly Debt</th>\n",
       "      <th>Years of Credit History</th>\n",
       "      <th>Months since last delinquent</th>\n",
       "      <th>Number of Open Accounts</th>\n",
       "      <th>Number of Credit Problems</th>\n",
       "      <th>Current Credit Balance</th>\n",
       "      <th>Maximum Open Credit</th>\n",
       "      <th>Bankruptcies</th>\n",
       "      <th>Tax Liens</th>\n",
       "    </tr>\n",
       "  </thead>\n",
       "  <tbody>\n",
       "    <tr>\n",
       "      <th>0</th>\n",
       "      <td>14dd8831-6af5-400b-83ec-68e61888a048</td>\n",
       "      <td>981165ec-3274-42f5-a3b4-d104041a9ca9</td>\n",
       "      <td>Fully Paid</td>\n",
       "      <td>445412.0</td>\n",
       "      <td>Short Term</td>\n",
       "      <td>709.0</td>\n",
       "      <td>1167493.0</td>\n",
       "      <td>8 years</td>\n",
       "      <td>Home Mortgage</td>\n",
       "      <td>Home Improvements</td>\n",
       "      <td>5214.74</td>\n",
       "      <td>17.2</td>\n",
       "      <td>NaN</td>\n",
       "      <td>6.0</td>\n",
       "      <td>1.0</td>\n",
       "      <td>228190.0</td>\n",
       "      <td>416746.0</td>\n",
       "      <td>1.0</td>\n",
       "      <td>0.0</td>\n",
       "    </tr>\n",
       "    <tr>\n",
       "      <th>1</th>\n",
       "      <td>4771cc26-131a-45db-b5aa-537ea4ba5342</td>\n",
       "      <td>2de017a3-2e01-49cb-a581-08169e83be29</td>\n",
       "      <td>Fully Paid</td>\n",
       "      <td>262328.0</td>\n",
       "      <td>Short Term</td>\n",
       "      <td>NaN</td>\n",
       "      <td>NaN</td>\n",
       "      <td>10+ years</td>\n",
       "      <td>Home Mortgage</td>\n",
       "      <td>Debt Consolidation</td>\n",
       "      <td>33295.98</td>\n",
       "      <td>21.1</td>\n",
       "      <td>8.0</td>\n",
       "      <td>35.0</td>\n",
       "      <td>0.0</td>\n",
       "      <td>229976.0</td>\n",
       "      <td>850784.0</td>\n",
       "      <td>0.0</td>\n",
       "      <td>0.0</td>\n",
       "    </tr>\n",
       "    <tr>\n",
       "      <th>2</th>\n",
       "      <td>4eed4e6a-aa2f-4c91-8651-ce984ee8fb26</td>\n",
       "      <td>5efb2b2b-bf11-4dfd-a572-3761a2694725</td>\n",
       "      <td>Fully Paid</td>\n",
       "      <td>99999999.0</td>\n",
       "      <td>Short Term</td>\n",
       "      <td>741.0</td>\n",
       "      <td>2231892.0</td>\n",
       "      <td>8 years</td>\n",
       "      <td>Own Home</td>\n",
       "      <td>Debt Consolidation</td>\n",
       "      <td>29200.53</td>\n",
       "      <td>14.9</td>\n",
       "      <td>29.0</td>\n",
       "      <td>18.0</td>\n",
       "      <td>1.0</td>\n",
       "      <td>297996.0</td>\n",
       "      <td>750090.0</td>\n",
       "      <td>0.0</td>\n",
       "      <td>0.0</td>\n",
       "    </tr>\n",
       "    <tr>\n",
       "      <th>3</th>\n",
       "      <td>77598f7b-32e7-4e3b-a6e5-06ba0d98fe8a</td>\n",
       "      <td>e777faab-98ae-45af-9a86-7ce5b33b1011</td>\n",
       "      <td>Fully Paid</td>\n",
       "      <td>347666.0</td>\n",
       "      <td>Long Term</td>\n",
       "      <td>721.0</td>\n",
       "      <td>806949.0</td>\n",
       "      <td>3 years</td>\n",
       "      <td>Own Home</td>\n",
       "      <td>Debt Consolidation</td>\n",
       "      <td>8741.90</td>\n",
       "      <td>12.0</td>\n",
       "      <td>NaN</td>\n",
       "      <td>9.0</td>\n",
       "      <td>0.0</td>\n",
       "      <td>256329.0</td>\n",
       "      <td>386958.0</td>\n",
       "      <td>0.0</td>\n",
       "      <td>0.0</td>\n",
       "    </tr>\n",
       "    <tr>\n",
       "      <th>4</th>\n",
       "      <td>d4062e70-befa-4995-8643-a0de73938182</td>\n",
       "      <td>81536ad9-5ccf-4eb8-befb-47a4d608658e</td>\n",
       "      <td>Fully Paid</td>\n",
       "      <td>176220.0</td>\n",
       "      <td>Short Term</td>\n",
       "      <td>NaN</td>\n",
       "      <td>NaN</td>\n",
       "      <td>5 years</td>\n",
       "      <td>Rent</td>\n",
       "      <td>Debt Consolidation</td>\n",
       "      <td>20639.70</td>\n",
       "      <td>6.1</td>\n",
       "      <td>NaN</td>\n",
       "      <td>15.0</td>\n",
       "      <td>0.0</td>\n",
       "      <td>253460.0</td>\n",
       "      <td>427174.0</td>\n",
       "      <td>0.0</td>\n",
       "      <td>0.0</td>\n",
       "    </tr>\n",
       "    <tr>\n",
       "      <th>...</th>\n",
       "      <td>...</td>\n",
       "      <td>...</td>\n",
       "      <td>...</td>\n",
       "      <td>...</td>\n",
       "      <td>...</td>\n",
       "      <td>...</td>\n",
       "      <td>...</td>\n",
       "      <td>...</td>\n",
       "      <td>...</td>\n",
       "      <td>...</td>\n",
       "      <td>...</td>\n",
       "      <td>...</td>\n",
       "      <td>...</td>\n",
       "      <td>...</td>\n",
       "      <td>...</td>\n",
       "      <td>...</td>\n",
       "      <td>...</td>\n",
       "      <td>...</td>\n",
       "      <td>...</td>\n",
       "    </tr>\n",
       "    <tr>\n",
       "      <th>100509</th>\n",
       "      <td>NaN</td>\n",
       "      <td>NaN</td>\n",
       "      <td>NaN</td>\n",
       "      <td>NaN</td>\n",
       "      <td>NaN</td>\n",
       "      <td>NaN</td>\n",
       "      <td>NaN</td>\n",
       "      <td>NaN</td>\n",
       "      <td>NaN</td>\n",
       "      <td>NaN</td>\n",
       "      <td>NaN</td>\n",
       "      <td>NaN</td>\n",
       "      <td>NaN</td>\n",
       "      <td>NaN</td>\n",
       "      <td>NaN</td>\n",
       "      <td>NaN</td>\n",
       "      <td>NaN</td>\n",
       "      <td>NaN</td>\n",
       "      <td>NaN</td>\n",
       "    </tr>\n",
       "    <tr>\n",
       "      <th>100510</th>\n",
       "      <td>NaN</td>\n",
       "      <td>NaN</td>\n",
       "      <td>NaN</td>\n",
       "      <td>NaN</td>\n",
       "      <td>NaN</td>\n",
       "      <td>NaN</td>\n",
       "      <td>NaN</td>\n",
       "      <td>NaN</td>\n",
       "      <td>NaN</td>\n",
       "      <td>NaN</td>\n",
       "      <td>NaN</td>\n",
       "      <td>NaN</td>\n",
       "      <td>NaN</td>\n",
       "      <td>NaN</td>\n",
       "      <td>NaN</td>\n",
       "      <td>NaN</td>\n",
       "      <td>NaN</td>\n",
       "      <td>NaN</td>\n",
       "      <td>NaN</td>\n",
       "    </tr>\n",
       "    <tr>\n",
       "      <th>100511</th>\n",
       "      <td>NaN</td>\n",
       "      <td>NaN</td>\n",
       "      <td>NaN</td>\n",
       "      <td>NaN</td>\n",
       "      <td>NaN</td>\n",
       "      <td>NaN</td>\n",
       "      <td>NaN</td>\n",
       "      <td>NaN</td>\n",
       "      <td>NaN</td>\n",
       "      <td>NaN</td>\n",
       "      <td>NaN</td>\n",
       "      <td>NaN</td>\n",
       "      <td>NaN</td>\n",
       "      <td>NaN</td>\n",
       "      <td>NaN</td>\n",
       "      <td>NaN</td>\n",
       "      <td>NaN</td>\n",
       "      <td>NaN</td>\n",
       "      <td>NaN</td>\n",
       "    </tr>\n",
       "    <tr>\n",
       "      <th>100512</th>\n",
       "      <td>NaN</td>\n",
       "      <td>NaN</td>\n",
       "      <td>NaN</td>\n",
       "      <td>NaN</td>\n",
       "      <td>NaN</td>\n",
       "      <td>NaN</td>\n",
       "      <td>NaN</td>\n",
       "      <td>NaN</td>\n",
       "      <td>NaN</td>\n",
       "      <td>NaN</td>\n",
       "      <td>NaN</td>\n",
       "      <td>NaN</td>\n",
       "      <td>NaN</td>\n",
       "      <td>NaN</td>\n",
       "      <td>NaN</td>\n",
       "      <td>NaN</td>\n",
       "      <td>NaN</td>\n",
       "      <td>NaN</td>\n",
       "      <td>NaN</td>\n",
       "    </tr>\n",
       "    <tr>\n",
       "      <th>100513</th>\n",
       "      <td>NaN</td>\n",
       "      <td>NaN</td>\n",
       "      <td>NaN</td>\n",
       "      <td>NaN</td>\n",
       "      <td>NaN</td>\n",
       "      <td>NaN</td>\n",
       "      <td>NaN</td>\n",
       "      <td>NaN</td>\n",
       "      <td>NaN</td>\n",
       "      <td>NaN</td>\n",
       "      <td>NaN</td>\n",
       "      <td>NaN</td>\n",
       "      <td>NaN</td>\n",
       "      <td>NaN</td>\n",
       "      <td>NaN</td>\n",
       "      <td>NaN</td>\n",
       "      <td>NaN</td>\n",
       "      <td>NaN</td>\n",
       "      <td>NaN</td>\n",
       "    </tr>\n",
       "  </tbody>\n",
       "</table>\n",
       "<p>100514 rows × 19 columns</p>\n",
       "</div>"
      ],
      "text/plain": [
       "                                     Loan ID  \\\n",
       "0       14dd8831-6af5-400b-83ec-68e61888a048   \n",
       "1       4771cc26-131a-45db-b5aa-537ea4ba5342   \n",
       "2       4eed4e6a-aa2f-4c91-8651-ce984ee8fb26   \n",
       "3       77598f7b-32e7-4e3b-a6e5-06ba0d98fe8a   \n",
       "4       d4062e70-befa-4995-8643-a0de73938182   \n",
       "...                                      ...   \n",
       "100509                                   NaN   \n",
       "100510                                   NaN   \n",
       "100511                                   NaN   \n",
       "100512                                   NaN   \n",
       "100513                                   NaN   \n",
       "\n",
       "                                 Customer ID Loan Status  Current Loan Amount  \\\n",
       "0       981165ec-3274-42f5-a3b4-d104041a9ca9  Fully Paid             445412.0   \n",
       "1       2de017a3-2e01-49cb-a581-08169e83be29  Fully Paid             262328.0   \n",
       "2       5efb2b2b-bf11-4dfd-a572-3761a2694725  Fully Paid           99999999.0   \n",
       "3       e777faab-98ae-45af-9a86-7ce5b33b1011  Fully Paid             347666.0   \n",
       "4       81536ad9-5ccf-4eb8-befb-47a4d608658e  Fully Paid             176220.0   \n",
       "...                                      ...         ...                  ...   \n",
       "100509                                   NaN         NaN                  NaN   \n",
       "100510                                   NaN         NaN                  NaN   \n",
       "100511                                   NaN         NaN                  NaN   \n",
       "100512                                   NaN         NaN                  NaN   \n",
       "100513                                   NaN         NaN                  NaN   \n",
       "\n",
       "              Term  Credit Score  Annual Income Years in current job  \\\n",
       "0       Short Term         709.0      1167493.0              8 years   \n",
       "1       Short Term           NaN            NaN            10+ years   \n",
       "2       Short Term         741.0      2231892.0              8 years   \n",
       "3        Long Term         721.0       806949.0              3 years   \n",
       "4       Short Term           NaN            NaN              5 years   \n",
       "...            ...           ...            ...                  ...   \n",
       "100509         NaN           NaN            NaN                  NaN   \n",
       "100510         NaN           NaN            NaN                  NaN   \n",
       "100511         NaN           NaN            NaN                  NaN   \n",
       "100512         NaN           NaN            NaN                  NaN   \n",
       "100513         NaN           NaN            NaN                  NaN   \n",
       "\n",
       "       Home Ownership             Purpose  Monthly Debt  \\\n",
       "0       Home Mortgage   Home Improvements       5214.74   \n",
       "1       Home Mortgage  Debt Consolidation      33295.98   \n",
       "2            Own Home  Debt Consolidation      29200.53   \n",
       "3            Own Home  Debt Consolidation       8741.90   \n",
       "4                Rent  Debt Consolidation      20639.70   \n",
       "...               ...                 ...           ...   \n",
       "100509            NaN                 NaN           NaN   \n",
       "100510            NaN                 NaN           NaN   \n",
       "100511            NaN                 NaN           NaN   \n",
       "100512            NaN                 NaN           NaN   \n",
       "100513            NaN                 NaN           NaN   \n",
       "\n",
       "        Years of Credit History  Months since last delinquent  \\\n",
       "0                          17.2                           NaN   \n",
       "1                          21.1                           8.0   \n",
       "2                          14.9                          29.0   \n",
       "3                          12.0                           NaN   \n",
       "4                           6.1                           NaN   \n",
       "...                         ...                           ...   \n",
       "100509                      NaN                           NaN   \n",
       "100510                      NaN                           NaN   \n",
       "100511                      NaN                           NaN   \n",
       "100512                      NaN                           NaN   \n",
       "100513                      NaN                           NaN   \n",
       "\n",
       "        Number of Open Accounts  Number of Credit Problems  \\\n",
       "0                           6.0                        1.0   \n",
       "1                          35.0                        0.0   \n",
       "2                          18.0                        1.0   \n",
       "3                           9.0                        0.0   \n",
       "4                          15.0                        0.0   \n",
       "...                         ...                        ...   \n",
       "100509                      NaN                        NaN   \n",
       "100510                      NaN                        NaN   \n",
       "100511                      NaN                        NaN   \n",
       "100512                      NaN                        NaN   \n",
       "100513                      NaN                        NaN   \n",
       "\n",
       "        Current Credit Balance  Maximum Open Credit  Bankruptcies  Tax Liens  \n",
       "0                     228190.0             416746.0           1.0        0.0  \n",
       "1                     229976.0             850784.0           0.0        0.0  \n",
       "2                     297996.0             750090.0           0.0        0.0  \n",
       "3                     256329.0             386958.0           0.0        0.0  \n",
       "4                     253460.0             427174.0           0.0        0.0  \n",
       "...                        ...                  ...           ...        ...  \n",
       "100509                     NaN                  NaN           NaN        NaN  \n",
       "100510                     NaN                  NaN           NaN        NaN  \n",
       "100511                     NaN                  NaN           NaN        NaN  \n",
       "100512                     NaN                  NaN           NaN        NaN  \n",
       "100513                     NaN                  NaN           NaN        NaN  \n",
       "\n",
       "[100514 rows x 19 columns]"
      ]
     },
     "execution_count": 2,
     "metadata": {},
     "output_type": "execute_result"
    }
   ],
   "source": [
    "train_data_df = pd.read_csv(\"credit_train.csv\")\n",
    "train_data_df"
   ]
  },
  {
   "cell_type": "code",
   "execution_count": 3,
   "metadata": {},
   "outputs": [
    {
     "data": {
      "text/plain": [
       "(100514, 19)"
      ]
     },
     "execution_count": 3,
     "metadata": {},
     "output_type": "execute_result"
    }
   ],
   "source": [
    "train_data_df.shape"
   ]
  },
  {
   "cell_type": "code",
   "execution_count": 4,
   "metadata": {},
   "outputs": [
    {
     "data": {
      "text/plain": [
       "Loan ID                           514\n",
       "Customer ID                       514\n",
       "Loan Status                       514\n",
       "Current Loan Amount               514\n",
       "Term                              514\n",
       "Credit Score                    19668\n",
       "Annual Income                   19668\n",
       "Years in current job             4736\n",
       "Home Ownership                    514\n",
       "Purpose                           514\n",
       "Monthly Debt                      514\n",
       "Years of Credit History           514\n",
       "Months since last delinquent    53655\n",
       "Number of Open Accounts           514\n",
       "Number of Credit Problems         514\n",
       "Current Credit Balance            514\n",
       "Maximum Open Credit               516\n",
       "Bankruptcies                      718\n",
       "Tax Liens                         524\n",
       "dtype: int64"
      ]
     },
     "execution_count": 4,
     "metadata": {},
     "output_type": "execute_result"
    }
   ],
   "source": [
    "train_data_df.isnull().sum()"
   ]
  },
  {
   "cell_type": "code",
   "execution_count": 5,
   "metadata": {},
   "outputs": [
    {
     "name": "stdout",
     "output_type": "stream",
     "text": [
      "<class 'pandas.core.frame.DataFrame'>\n",
      "RangeIndex: 100514 entries, 0 to 100513\n",
      "Data columns (total 19 columns):\n",
      " #   Column                        Non-Null Count   Dtype  \n",
      "---  ------                        --------------   -----  \n",
      " 0   Loan ID                       100000 non-null  object \n",
      " 1   Customer ID                   100000 non-null  object \n",
      " 2   Loan Status                   100000 non-null  object \n",
      " 3   Current Loan Amount           100000 non-null  float64\n",
      " 4   Term                          100000 non-null  object \n",
      " 5   Credit Score                  80846 non-null   float64\n",
      " 6   Annual Income                 80846 non-null   float64\n",
      " 7   Years in current job          95778 non-null   object \n",
      " 8   Home Ownership                100000 non-null  object \n",
      " 9   Purpose                       100000 non-null  object \n",
      " 10  Monthly Debt                  100000 non-null  float64\n",
      " 11  Years of Credit History       100000 non-null  float64\n",
      " 12  Months since last delinquent  46859 non-null   float64\n",
      " 13  Number of Open Accounts       100000 non-null  float64\n",
      " 14  Number of Credit Problems     100000 non-null  float64\n",
      " 15  Current Credit Balance        100000 non-null  float64\n",
      " 16  Maximum Open Credit           99998 non-null   float64\n",
      " 17  Bankruptcies                  99796 non-null   float64\n",
      " 18  Tax Liens                     99990 non-null   float64\n",
      "dtypes: float64(12), object(7)\n",
      "memory usage: 14.6+ MB\n"
     ]
    }
   ],
   "source": [
    "train_data_df.info()"
   ]
  },
  {
   "cell_type": "code",
   "execution_count": 6,
   "metadata": {},
   "outputs": [
    {
     "name": "stdout",
     "output_type": "stream",
     "text": [
      "repeat in train_data : 10728\n"
     ]
    }
   ],
   "source": [
    "repeat = train_data_df.duplicated()\n",
    "print('repeat in train_data :', repeat.sum())"
   ]
  },
  {
   "cell_type": "code",
   "execution_count": 7,
   "metadata": {},
   "outputs": [
    {
     "data": {
      "text/plain": [
       "Index(['Loan ID', 'Customer ID', 'Loan Status', 'Current Loan Amount', 'Term',\n",
       "       'Credit Score', 'Annual Income', 'Years in current job',\n",
       "       'Home Ownership', 'Purpose', 'Monthly Debt', 'Years of Credit History',\n",
       "       'Months since last delinquent', 'Number of Open Accounts',\n",
       "       'Number of Credit Problems', 'Current Credit Balance',\n",
       "       'Maximum Open Credit', 'Bankruptcies', 'Tax Liens'],\n",
       "      dtype='object')"
      ]
     },
     "execution_count": 7,
     "metadata": {},
     "output_type": "execute_result"
    }
   ],
   "source": [
    "train_data_df.columns"
   ]
  },
  {
   "cell_type": "code",
   "execution_count": 8,
   "metadata": {},
   "outputs": [
    {
     "data": {
      "text/plain": [
       "Index(['Loan_ID', 'Customer_ID', 'Loan_Status', 'Current_Loan_Amount', 'Term',\n",
       "       'Credit_Score', 'Annual_Income', 'Years_in_current_job',\n",
       "       'Home_Ownership', 'Purpose', 'Monthly_Debt', 'Years_of_Credit_History',\n",
       "       'Months_since_last_delinquent', 'Number_of_Open_Accounts',\n",
       "       'Number_of_Credit_Problems', 'Current_Credit_Balance',\n",
       "       'Maximum_Open_Credit', 'Bankruptcies', 'Tax_Liens'],\n",
       "      dtype='object')"
      ]
     },
     "execution_count": 8,
     "metadata": {},
     "output_type": "execute_result"
    }
   ],
   "source": [
    "train_data_df.columns = train_data_df.columns.str.replace(' ','_')\n",
    "train_data_df.columns"
   ]
  },
  {
   "cell_type": "code",
   "execution_count": 9,
   "metadata": {},
   "outputs": [
    {
     "name": "stdout",
     "output_type": "stream",
     "text": [
      "scale of train data: (80411, 19)\n",
      "scale of test data: (20103, 19)\n"
     ]
    }
   ],
   "source": [
    "df_train, df_test  = train_test_split(train_data_df, test_size=0.2, random_state=42)\n",
    "print('scale of train data:', df_train.shape)\n",
    "print('scale of test data:', df_test.shape)"
   ]
  },
  {
   "cell_type": "code",
   "execution_count": 10,
   "metadata": {},
   "outputs": [
    {
     "name": "stdout",
     "output_type": "stream",
     "text": [
      "scale of train data: (79992, 19)\n",
      "scale of test data: (20008, 19)\n"
     ]
    }
   ],
   "source": [
    "df_train = df_train.dropna(subset = ['Loan_ID'])\n",
    "df_test = df_test.dropna(subset = ['Loan_ID'])\n",
    "print('scale of train data:', df_train.shape)\n",
    "print('scale of test data:', df_test.shape)"
   ]
  },
  {
   "cell_type": "code",
   "execution_count": 11,
   "metadata": {},
   "outputs": [
    {
     "name": "stdout",
     "output_type": "stream",
     "text": [
      "<class 'pandas.core.frame.DataFrame'>\n",
      "Int64Index: 79992 entries, 62725 to 15795\n",
      "Data columns (total 19 columns):\n",
      " #   Column                        Non-Null Count  Dtype  \n",
      "---  ------                        --------------  -----  \n",
      " 0   Loan_ID                       79992 non-null  object \n",
      " 1   Customer_ID                   79992 non-null  object \n",
      " 2   Loan_Status                   79992 non-null  object \n",
      " 3   Current_Loan_Amount           79992 non-null  float64\n",
      " 4   Term                          79992 non-null  object \n",
      " 5   Credit_Score                  64536 non-null  float64\n",
      " 6   Annual_Income                 64536 non-null  float64\n",
      " 7   Years_in_current_job          76606 non-null  object \n",
      " 8   Home_Ownership                79992 non-null  object \n",
      " 9   Purpose                       79992 non-null  object \n",
      " 10  Monthly_Debt                  79992 non-null  float64\n",
      " 11  Years_of_Credit_History       79992 non-null  float64\n",
      " 12  Months_since_last_delinquent  37455 non-null  float64\n",
      " 13  Number_of_Open_Accounts       79992 non-null  float64\n",
      " 14  Number_of_Credit_Problems     79992 non-null  float64\n",
      " 15  Current_Credit_Balance        79992 non-null  float64\n",
      " 16  Maximum_Open_Credit           79990 non-null  float64\n",
      " 17  Bankruptcies                  79842 non-null  float64\n",
      " 18  Tax_Liens                     79987 non-null  float64\n",
      "dtypes: float64(12), object(7)\n",
      "memory usage: 12.2+ MB\n"
     ]
    }
   ],
   "source": [
    "df_train.info()"
   ]
  },
  {
   "cell_type": "code",
   "execution_count": 12,
   "metadata": {
    "scrolled": true
   },
   "outputs": [
    {
     "data": {
      "text/plain": [
       "Loan_ID                             0\n",
       "Customer_ID                         0\n",
       "Loan_Status                         0\n",
       "Current_Loan_Amount                 0\n",
       "Term                                0\n",
       "Credit_Score                    15456\n",
       "Annual_Income                   15456\n",
       "Years_in_current_job             3386\n",
       "Home_Ownership                      0\n",
       "Purpose                             0\n",
       "Monthly_Debt                        0\n",
       "Years_of_Credit_History             0\n",
       "Months_since_last_delinquent    42537\n",
       "Number_of_Open_Accounts             0\n",
       "Number_of_Credit_Problems           0\n",
       "Current_Credit_Balance              0\n",
       "Maximum_Open_Credit                 2\n",
       "Bankruptcies                      150\n",
       "Tax_Liens                           5\n",
       "dtype: int64"
      ]
     },
     "execution_count": 12,
     "metadata": {},
     "output_type": "execute_result"
    }
   ],
   "source": [
    "df_train.isnull().sum()"
   ]
  },
  {
   "cell_type": "code",
   "execution_count": 13,
   "metadata": {},
   "outputs": [
    {
     "name": "stdout",
     "output_type": "stream",
     "text": [
      "repeat data in train data 6520\n",
      "repeat data in test data 401\n"
     ]
    }
   ],
   "source": [
    "repeat_train_data = df_train.duplicated().sum()\n",
    "repeat_test_data = df_test.duplicated().sum()\n",
    "print('repeat data in train data', repeat_train_data)\n",
    "print('repeat data in test data', repeat_test_data)"
   ]
  },
  {
   "cell_type": "code",
   "execution_count": 14,
   "metadata": {},
   "outputs": [
    {
     "name": "stdout",
     "output_type": "stream",
     "text": [
      "repeat data in train data 0\n",
      "repeat data in test data 0\n",
      "scale of train data: (73472, 19)\n",
      "scale of test data: (19607, 19)\n"
     ]
    }
   ],
   "source": [
    "df_train.drop_duplicates(inplace=True)\n",
    "df_test.drop_duplicates(inplace=True)\n",
    "\n",
    "repeat_train_data = df_train.duplicated().sum()\n",
    "repeat_test_data = df_test.duplicated().sum()\n",
    "print('repeat data in train data', repeat_train_data)\n",
    "print('repeat data in test data', repeat_test_data)\n",
    "\n",
    "print('scale of train data:', df_train.shape)\n",
    "print('scale of test data:', df_test.shape)"
   ]
  },
  {
   "cell_type": "code",
   "execution_count": 15,
   "metadata": {},
   "outputs": [
    {
     "data": {
      "text/plain": [
       "Loan_ID                             0\n",
       "Customer_ID                         0\n",
       "Loan_Status                         0\n",
       "Current_Loan_Amount                 0\n",
       "Term                                0\n",
       "Credit_Score                    15456\n",
       "Annual_Income                   15456\n",
       "Years_in_current_job             3117\n",
       "Home_Ownership                      0\n",
       "Purpose                             0\n",
       "Monthly_Debt                        0\n",
       "Years_of_Credit_History             0\n",
       "Months_since_last_delinquent    39442\n",
       "Number_of_Open_Accounts             0\n",
       "Number_of_Credit_Problems           0\n",
       "Current_Credit_Balance              0\n",
       "Maximum_Open_Credit                 2\n",
       "Bankruptcies                      143\n",
       "Tax_Liens                           5\n",
       "dtype: int64"
      ]
     },
     "execution_count": 15,
     "metadata": {},
     "output_type": "execute_result"
    }
   ],
   "source": [
    "df_train.isnull().sum()"
   ]
  },
  {
   "cell_type": "code",
   "execution_count": 16,
   "metadata": {},
   "outputs": [
    {
     "data": {
      "text/plain": [
       "5a90cbe3-8fee-4582-8823-1f31546dec6e    2\n",
       "770a1bf3-ebbb-435d-841a-02a654cf2f1f    2\n",
       "b53fe85a-7866-47ef-82fa-745b2777377c    2\n",
       "cecfe2d1-4019-421d-ab0c-78189195d96d    2\n",
       "0d4b7e35-456d-4cd6-8dcf-dab2a192018e    2\n",
       "                                       ..\n",
       "17e5d465-4a54-4c83-bc1e-d53190ddf75b    1\n",
       "cfc0577f-ad42-423d-ab31-6163c83a875c    1\n",
       "af23ffc3-01c0-4b33-a63d-6b5d5018fade    1\n",
       "bab59759-50cc-459b-b72f-1395281ea09b    1\n",
       "b407196e-e336-4864-a2cf-218304285cb0    1\n",
       "Name: Loan_ID, Length: 68478, dtype: int64"
      ]
     },
     "execution_count": 16,
     "metadata": {},
     "output_type": "execute_result"
    }
   ],
   "source": [
    "df_train['Loan_ID'].value_counts().sort_values(ascending=False)"
   ]
  },
  {
   "cell_type": "code",
   "execution_count": 17,
   "metadata": {},
   "outputs": [
    {
     "data": {
      "text/html": [
       "<div>\n",
       "<style scoped>\n",
       "    .dataframe tbody tr th:only-of-type {\n",
       "        vertical-align: middle;\n",
       "    }\n",
       "\n",
       "    .dataframe tbody tr th {\n",
       "        vertical-align: top;\n",
       "    }\n",
       "\n",
       "    .dataframe thead th {\n",
       "        text-align: right;\n",
       "    }\n",
       "</style>\n",
       "<table border=\"1\" class=\"dataframe\">\n",
       "  <thead>\n",
       "    <tr style=\"text-align: right;\">\n",
       "      <th></th>\n",
       "      <th>Loan_ID</th>\n",
       "      <th>Customer_ID</th>\n",
       "      <th>Loan_Status</th>\n",
       "      <th>Current_Loan_Amount</th>\n",
       "      <th>Term</th>\n",
       "      <th>Credit_Score</th>\n",
       "      <th>Annual_Income</th>\n",
       "      <th>Years_in_current_job</th>\n",
       "      <th>Home_Ownership</th>\n",
       "      <th>Purpose</th>\n",
       "      <th>Monthly_Debt</th>\n",
       "      <th>Years_of_Credit_History</th>\n",
       "      <th>Months_since_last_delinquent</th>\n",
       "      <th>Number_of_Open_Accounts</th>\n",
       "      <th>Number_of_Credit_Problems</th>\n",
       "      <th>Current_Credit_Balance</th>\n",
       "      <th>Maximum_Open_Credit</th>\n",
       "      <th>Bankruptcies</th>\n",
       "      <th>Tax_Liens</th>\n",
       "    </tr>\n",
       "  </thead>\n",
       "  <tbody>\n",
       "    <tr>\n",
       "      <th>75405</th>\n",
       "      <td>7830a00a-20c4-4480-9cf0-fe2f86b5266b</td>\n",
       "      <td>f41798de-03d5-4c73-aa4d-1483774aa739</td>\n",
       "      <td>Fully Paid</td>\n",
       "      <td>99999999.0</td>\n",
       "      <td>Short Term</td>\n",
       "      <td>653.0</td>\n",
       "      <td>1314572.0</td>\n",
       "      <td>4 years</td>\n",
       "      <td>Rent</td>\n",
       "      <td>Debt Consolidation</td>\n",
       "      <td>13145.72</td>\n",
       "      <td>7.2</td>\n",
       "      <td>NaN</td>\n",
       "      <td>9.0</td>\n",
       "      <td>0.0</td>\n",
       "      <td>217132.0</td>\n",
       "      <td>323158.0</td>\n",
       "      <td>0.0</td>\n",
       "      <td>0.0</td>\n",
       "    </tr>\n",
       "  </tbody>\n",
       "</table>\n",
       "</div>"
      ],
      "text/plain": [
       "                                    Loan_ID  \\\n",
       "75405  7830a00a-20c4-4480-9cf0-fe2f86b5266b   \n",
       "\n",
       "                                Customer_ID Loan_Status  Current_Loan_Amount  \\\n",
       "75405  f41798de-03d5-4c73-aa4d-1483774aa739  Fully Paid           99999999.0   \n",
       "\n",
       "             Term  Credit_Score  Annual_Income Years_in_current_job  \\\n",
       "75405  Short Term         653.0      1314572.0              4 years   \n",
       "\n",
       "      Home_Ownership             Purpose  Monthly_Debt  \\\n",
       "75405           Rent  Debt Consolidation      13145.72   \n",
       "\n",
       "       Years_of_Credit_History  Months_since_last_delinquent  \\\n",
       "75405                      7.2                           NaN   \n",
       "\n",
       "       Number_of_Open_Accounts  Number_of_Credit_Problems  \\\n",
       "75405                      9.0                        0.0   \n",
       "\n",
       "       Current_Credit_Balance  Maximum_Open_Credit  Bankruptcies  Tax_Liens  \n",
       "75405                217132.0             323158.0           0.0        0.0  "
      ]
     },
     "execution_count": 17,
     "metadata": {},
     "output_type": "execute_result"
    }
   ],
   "source": [
    "df_train[df_train['Loan_ID'] == '7830a00a-20c4-4480-9cf0-fe2f86b5266b']"
   ]
  },
  {
   "cell_type": "code",
   "execution_count": 18,
   "metadata": {},
   "outputs": [
    {
     "data": {
      "text/html": [
       "<div>\n",
       "<style scoped>\n",
       "    .dataframe tbody tr th:only-of-type {\n",
       "        vertical-align: middle;\n",
       "    }\n",
       "\n",
       "    .dataframe tbody tr th {\n",
       "        vertical-align: top;\n",
       "    }\n",
       "\n",
       "    .dataframe thead th {\n",
       "        text-align: right;\n",
       "    }\n",
       "</style>\n",
       "<table border=\"1\" class=\"dataframe\">\n",
       "  <thead>\n",
       "    <tr style=\"text-align: right;\">\n",
       "      <th></th>\n",
       "      <th>Loan_ID</th>\n",
       "      <th>Customer_ID</th>\n",
       "      <th>Loan_Status</th>\n",
       "      <th>Current_Loan_Amount</th>\n",
       "      <th>Term</th>\n",
       "      <th>Credit_Score</th>\n",
       "      <th>Annual_Income</th>\n",
       "      <th>Years_in_current_job</th>\n",
       "      <th>Home_Ownership</th>\n",
       "      <th>Purpose</th>\n",
       "      <th>Monthly_Debt</th>\n",
       "      <th>Years_of_Credit_History</th>\n",
       "      <th>Months_since_last_delinquent</th>\n",
       "      <th>Number_of_Open_Accounts</th>\n",
       "      <th>Number_of_Credit_Problems</th>\n",
       "      <th>Current_Credit_Balance</th>\n",
       "      <th>Maximum_Open_Credit</th>\n",
       "      <th>Bankruptcies</th>\n",
       "      <th>Tax_Liens</th>\n",
       "    </tr>\n",
       "  </thead>\n",
       "  <tbody>\n",
       "    <tr>\n",
       "      <th>24682</th>\n",
       "      <td>2b66ad68-5065-457c-a2ce-367bc48d8979</td>\n",
       "      <td>71ec4684-1697-44eb-8222-a5a80c76dc0e</td>\n",
       "      <td>Fully Paid</td>\n",
       "      <td>346258.0</td>\n",
       "      <td>Short Term</td>\n",
       "      <td>704.0</td>\n",
       "      <td>1495224.0</td>\n",
       "      <td>9 years</td>\n",
       "      <td>Home Mortgage</td>\n",
       "      <td>Debt Consolidation</td>\n",
       "      <td>31399.78</td>\n",
       "      <td>25.5</td>\n",
       "      <td>67.0</td>\n",
       "      <td>16.0</td>\n",
       "      <td>0.0</td>\n",
       "      <td>539334.0</td>\n",
       "      <td>731236.0</td>\n",
       "      <td>0.0</td>\n",
       "      <td>0.0</td>\n",
       "    </tr>\n",
       "    <tr>\n",
       "      <th>7463</th>\n",
       "      <td>2b66ad68-5065-457c-a2ce-367bc48d8979</td>\n",
       "      <td>71ec4684-1697-44eb-8222-a5a80c76dc0e</td>\n",
       "      <td>Fully Paid</td>\n",
       "      <td>99999999.0</td>\n",
       "      <td>Short Term</td>\n",
       "      <td>704.0</td>\n",
       "      <td>1495224.0</td>\n",
       "      <td>9 years</td>\n",
       "      <td>Home Mortgage</td>\n",
       "      <td>Debt Consolidation</td>\n",
       "      <td>31399.78</td>\n",
       "      <td>25.5</td>\n",
       "      <td>67.0</td>\n",
       "      <td>16.0</td>\n",
       "      <td>0.0</td>\n",
       "      <td>539334.0</td>\n",
       "      <td>731236.0</td>\n",
       "      <td>0.0</td>\n",
       "      <td>0.0</td>\n",
       "    </tr>\n",
       "  </tbody>\n",
       "</table>\n",
       "</div>"
      ],
      "text/plain": [
       "                                    Loan_ID  \\\n",
       "24682  2b66ad68-5065-457c-a2ce-367bc48d8979   \n",
       "7463   2b66ad68-5065-457c-a2ce-367bc48d8979   \n",
       "\n",
       "                                Customer_ID Loan_Status  Current_Loan_Amount  \\\n",
       "24682  71ec4684-1697-44eb-8222-a5a80c76dc0e  Fully Paid             346258.0   \n",
       "7463   71ec4684-1697-44eb-8222-a5a80c76dc0e  Fully Paid           99999999.0   \n",
       "\n",
       "             Term  Credit_Score  Annual_Income Years_in_current_job  \\\n",
       "24682  Short Term         704.0      1495224.0              9 years   \n",
       "7463   Short Term         704.0      1495224.0              9 years   \n",
       "\n",
       "      Home_Ownership             Purpose  Monthly_Debt  \\\n",
       "24682  Home Mortgage  Debt Consolidation      31399.78   \n",
       "7463   Home Mortgage  Debt Consolidation      31399.78   \n",
       "\n",
       "       Years_of_Credit_History  Months_since_last_delinquent  \\\n",
       "24682                     25.5                          67.0   \n",
       "7463                      25.5                          67.0   \n",
       "\n",
       "       Number_of_Open_Accounts  Number_of_Credit_Problems  \\\n",
       "24682                     16.0                        0.0   \n",
       "7463                      16.0                        0.0   \n",
       "\n",
       "       Current_Credit_Balance  Maximum_Open_Credit  Bankruptcies  Tax_Liens  \n",
       "24682                539334.0             731236.0           0.0        0.0  \n",
       "7463                 539334.0             731236.0           0.0        0.0  "
      ]
     },
     "execution_count": 18,
     "metadata": {},
     "output_type": "execute_result"
    }
   ],
   "source": [
    "df_train[df_train['Loan_ID'] == '2b66ad68-5065-457c-a2ce-367bc48d8979']"
   ]
  },
  {
   "cell_type": "code",
   "execution_count": 19,
   "metadata": {},
   "outputs": [
    {
     "data": {
      "text/html": [
       "<div>\n",
       "<style scoped>\n",
       "    .dataframe tbody tr th:only-of-type {\n",
       "        vertical-align: middle;\n",
       "    }\n",
       "\n",
       "    .dataframe tbody tr th {\n",
       "        vertical-align: top;\n",
       "    }\n",
       "\n",
       "    .dataframe thead th {\n",
       "        text-align: right;\n",
       "    }\n",
       "</style>\n",
       "<table border=\"1\" class=\"dataframe\">\n",
       "  <thead>\n",
       "    <tr style=\"text-align: right;\">\n",
       "      <th></th>\n",
       "      <th>Loan_ID</th>\n",
       "      <th>Customer_ID</th>\n",
       "      <th>Loan_Status</th>\n",
       "      <th>Current_Loan_Amount</th>\n",
       "      <th>Term</th>\n",
       "      <th>Credit_Score</th>\n",
       "      <th>Annual_Income</th>\n",
       "      <th>Years_in_current_job</th>\n",
       "      <th>Home_Ownership</th>\n",
       "      <th>Purpose</th>\n",
       "      <th>Monthly_Debt</th>\n",
       "      <th>Years_of_Credit_History</th>\n",
       "      <th>Months_since_last_delinquent</th>\n",
       "      <th>Number_of_Open_Accounts</th>\n",
       "      <th>Number_of_Credit_Problems</th>\n",
       "      <th>Current_Credit_Balance</th>\n",
       "      <th>Maximum_Open_Credit</th>\n",
       "      <th>Bankruptcies</th>\n",
       "      <th>Tax_Liens</th>\n",
       "    </tr>\n",
       "  </thead>\n",
       "  <tbody>\n",
       "    <tr>\n",
       "      <th>48427</th>\n",
       "      <td>f001953b-a5e1-4668-8fc1-d8df1a9e72c0</td>\n",
       "      <td>702e5fcc-00bf-4722-8f3e-9b16b211e8de</td>\n",
       "      <td>Fully Paid</td>\n",
       "      <td>99999999.0</td>\n",
       "      <td>Long Term</td>\n",
       "      <td>688.0</td>\n",
       "      <td>674975.0</td>\n",
       "      <td>5 years</td>\n",
       "      <td>Rent</td>\n",
       "      <td>Business Loan</td>\n",
       "      <td>5495.37</td>\n",
       "      <td>14.7</td>\n",
       "      <td>45.0</td>\n",
       "      <td>12.0</td>\n",
       "      <td>0.0</td>\n",
       "      <td>157453.0</td>\n",
       "      <td>415316.0</td>\n",
       "      <td>0.0</td>\n",
       "      <td>0.0</td>\n",
       "    </tr>\n",
       "    <tr>\n",
       "      <th>37407</th>\n",
       "      <td>d3de2f28-3759-4453-a2d4-dd0f0dfed25f</td>\n",
       "      <td>b3110f03-0c03-45f5-9ca6-e368a1d39f40</td>\n",
       "      <td>Fully Paid</td>\n",
       "      <td>99999999.0</td>\n",
       "      <td>Long Term</td>\n",
       "      <td>696.0</td>\n",
       "      <td>851846.0</td>\n",
       "      <td>9 years</td>\n",
       "      <td>Own Home</td>\n",
       "      <td>Debt Consolidation</td>\n",
       "      <td>10647.98</td>\n",
       "      <td>9.5</td>\n",
       "      <td>NaN</td>\n",
       "      <td>8.0</td>\n",
       "      <td>0.0</td>\n",
       "      <td>129219.0</td>\n",
       "      <td>487366.0</td>\n",
       "      <td>0.0</td>\n",
       "      <td>0.0</td>\n",
       "    </tr>\n",
       "    <tr>\n",
       "      <th>67399</th>\n",
       "      <td>15a35601-a5b8-4f53-aaeb-e89bd9838f9b</td>\n",
       "      <td>a147b553-a0f1-4773-910d-9b1af0052324</td>\n",
       "      <td>Fully Paid</td>\n",
       "      <td>99999999.0</td>\n",
       "      <td>Long Term</td>\n",
       "      <td>667.0</td>\n",
       "      <td>1412897.0</td>\n",
       "      <td>10+ years</td>\n",
       "      <td>Rent</td>\n",
       "      <td>Debt Consolidation</td>\n",
       "      <td>36970.58</td>\n",
       "      <td>22.7</td>\n",
       "      <td>60.0</td>\n",
       "      <td>12.0</td>\n",
       "      <td>0.0</td>\n",
       "      <td>315248.0</td>\n",
       "      <td>651816.0</td>\n",
       "      <td>0.0</td>\n",
       "      <td>0.0</td>\n",
       "    </tr>\n",
       "    <tr>\n",
       "      <th>268</th>\n",
       "      <td>ea0e3c8d-0a6b-4b03-a766-c310c5a22cd6</td>\n",
       "      <td>e25e2a25-19db-4100-97fc-18282b8c98a0</td>\n",
       "      <td>Fully Paid</td>\n",
       "      <td>99999999.0</td>\n",
       "      <td>Short Term</td>\n",
       "      <td>721.0</td>\n",
       "      <td>805733.0</td>\n",
       "      <td>10+ years</td>\n",
       "      <td>Home Mortgage</td>\n",
       "      <td>Debt Consolidation</td>\n",
       "      <td>12757.55</td>\n",
       "      <td>15.9</td>\n",
       "      <td>45.0</td>\n",
       "      <td>9.0</td>\n",
       "      <td>0.0</td>\n",
       "      <td>93347.0</td>\n",
       "      <td>195448.0</td>\n",
       "      <td>0.0</td>\n",
       "      <td>0.0</td>\n",
       "    </tr>\n",
       "    <tr>\n",
       "      <th>31271</th>\n",
       "      <td>adebe0c9-c9d5-44fa-b70e-a827e2100415</td>\n",
       "      <td>2c2a199f-48b3-4b9b-91b4-e013dc45503c</td>\n",
       "      <td>Fully Paid</td>\n",
       "      <td>99999999.0</td>\n",
       "      <td>Long Term</td>\n",
       "      <td>678.0</td>\n",
       "      <td>1606279.0</td>\n",
       "      <td>&lt; 1 year</td>\n",
       "      <td>Home Mortgage</td>\n",
       "      <td>Debt Consolidation</td>\n",
       "      <td>14858.00</td>\n",
       "      <td>29.5</td>\n",
       "      <td>23.0</td>\n",
       "      <td>20.0</td>\n",
       "      <td>1.0</td>\n",
       "      <td>203205.0</td>\n",
       "      <td>312884.0</td>\n",
       "      <td>1.0</td>\n",
       "      <td>0.0</td>\n",
       "    </tr>\n",
       "    <tr>\n",
       "      <th>...</th>\n",
       "      <td>...</td>\n",
       "      <td>...</td>\n",
       "      <td>...</td>\n",
       "      <td>...</td>\n",
       "      <td>...</td>\n",
       "      <td>...</td>\n",
       "      <td>...</td>\n",
       "      <td>...</td>\n",
       "      <td>...</td>\n",
       "      <td>...</td>\n",
       "      <td>...</td>\n",
       "      <td>...</td>\n",
       "      <td>...</td>\n",
       "      <td>...</td>\n",
       "      <td>...</td>\n",
       "      <td>...</td>\n",
       "      <td>...</td>\n",
       "      <td>...</td>\n",
       "      <td>...</td>\n",
       "    </tr>\n",
       "    <tr>\n",
       "      <th>84896</th>\n",
       "      <td>cc537c28-c1ce-4b20-97fc-7947067688dd</td>\n",
       "      <td>e2293f56-2414-49dc-9bd7-5fbb2d64d385</td>\n",
       "      <td>Fully Paid</td>\n",
       "      <td>99999999.0</td>\n",
       "      <td>Long Term</td>\n",
       "      <td>722.0</td>\n",
       "      <td>1248186.0</td>\n",
       "      <td>8 years</td>\n",
       "      <td>Home Mortgage</td>\n",
       "      <td>Debt Consolidation</td>\n",
       "      <td>13729.97</td>\n",
       "      <td>17.5</td>\n",
       "      <td>NaN</td>\n",
       "      <td>8.0</td>\n",
       "      <td>0.0</td>\n",
       "      <td>526376.0</td>\n",
       "      <td>731698.0</td>\n",
       "      <td>0.0</td>\n",
       "      <td>0.0</td>\n",
       "    </tr>\n",
       "    <tr>\n",
       "      <th>52733</th>\n",
       "      <td>fc1deea3-945e-4ed4-acf7-71751b01797b</td>\n",
       "      <td>64577063-c0ec-4273-acab-e55105467aae</td>\n",
       "      <td>Fully Paid</td>\n",
       "      <td>99999999.0</td>\n",
       "      <td>Long Term</td>\n",
       "      <td>723.0</td>\n",
       "      <td>2412696.0</td>\n",
       "      <td>7 years</td>\n",
       "      <td>Home Mortgage</td>\n",
       "      <td>Debt Consolidation</td>\n",
       "      <td>12425.43</td>\n",
       "      <td>28.0</td>\n",
       "      <td>NaN</td>\n",
       "      <td>11.0</td>\n",
       "      <td>0.0</td>\n",
       "      <td>367897.0</td>\n",
       "      <td>777348.0</td>\n",
       "      <td>0.0</td>\n",
       "      <td>0.0</td>\n",
       "    </tr>\n",
       "    <tr>\n",
       "      <th>95003</th>\n",
       "      <td>35a73834-a7d1-47ae-9193-8f5da7f7f43b</td>\n",
       "      <td>a35a43a7-67dd-4989-a707-a389b6614beb</td>\n",
       "      <td>Fully Paid</td>\n",
       "      <td>99999999.0</td>\n",
       "      <td>Long Term</td>\n",
       "      <td>670.0</td>\n",
       "      <td>5225931.0</td>\n",
       "      <td>5 years</td>\n",
       "      <td>Rent</td>\n",
       "      <td>Debt Consolidation</td>\n",
       "      <td>18813.42</td>\n",
       "      <td>23.7</td>\n",
       "      <td>37.0</td>\n",
       "      <td>13.0</td>\n",
       "      <td>0.0</td>\n",
       "      <td>742596.0</td>\n",
       "      <td>1682692.0</td>\n",
       "      <td>0.0</td>\n",
       "      <td>0.0</td>\n",
       "    </tr>\n",
       "    <tr>\n",
       "      <th>35222</th>\n",
       "      <td>802d1d90-a269-4fdc-9697-1bec09c94128</td>\n",
       "      <td>a34e5841-7dad-4ec2-ac11-337cdc831782</td>\n",
       "      <td>Fully Paid</td>\n",
       "      <td>99999999.0</td>\n",
       "      <td>Short Term</td>\n",
       "      <td>683.0</td>\n",
       "      <td>843372.0</td>\n",
       "      <td>3 years</td>\n",
       "      <td>Home Mortgage</td>\n",
       "      <td>Debt Consolidation</td>\n",
       "      <td>13283.09</td>\n",
       "      <td>12.9</td>\n",
       "      <td>NaN</td>\n",
       "      <td>12.0</td>\n",
       "      <td>0.0</td>\n",
       "      <td>534508.0</td>\n",
       "      <td>724724.0</td>\n",
       "      <td>0.0</td>\n",
       "      <td>0.0</td>\n",
       "    </tr>\n",
       "    <tr>\n",
       "      <th>78953</th>\n",
       "      <td>49b6d920-a4f3-47e1-bf73-ef4d9cb351aa</td>\n",
       "      <td>4aab697b-1f80-4d98-a83d-7b7b0804be2d</td>\n",
       "      <td>Fully Paid</td>\n",
       "      <td>99999999.0</td>\n",
       "      <td>Long Term</td>\n",
       "      <td>715.0</td>\n",
       "      <td>2123326.0</td>\n",
       "      <td>&lt; 1 year</td>\n",
       "      <td>Rent</td>\n",
       "      <td>Debt Consolidation</td>\n",
       "      <td>53436.93</td>\n",
       "      <td>18.0</td>\n",
       "      <td>NaN</td>\n",
       "      <td>16.0</td>\n",
       "      <td>0.0</td>\n",
       "      <td>679592.0</td>\n",
       "      <td>1169234.0</td>\n",
       "      <td>0.0</td>\n",
       "      <td>0.0</td>\n",
       "    </tr>\n",
       "  </tbody>\n",
       "</table>\n",
       "<p>1138 rows × 19 columns</p>\n",
       "</div>"
      ],
      "text/plain": [
       "                                    Loan_ID  \\\n",
       "48427  f001953b-a5e1-4668-8fc1-d8df1a9e72c0   \n",
       "37407  d3de2f28-3759-4453-a2d4-dd0f0dfed25f   \n",
       "67399  15a35601-a5b8-4f53-aaeb-e89bd9838f9b   \n",
       "268    ea0e3c8d-0a6b-4b03-a766-c310c5a22cd6   \n",
       "31271  adebe0c9-c9d5-44fa-b70e-a827e2100415   \n",
       "...                                     ...   \n",
       "84896  cc537c28-c1ce-4b20-97fc-7947067688dd   \n",
       "52733  fc1deea3-945e-4ed4-acf7-71751b01797b   \n",
       "95003  35a73834-a7d1-47ae-9193-8f5da7f7f43b   \n",
       "35222  802d1d90-a269-4fdc-9697-1bec09c94128   \n",
       "78953  49b6d920-a4f3-47e1-bf73-ef4d9cb351aa   \n",
       "\n",
       "                                Customer_ID Loan_Status  Current_Loan_Amount  \\\n",
       "48427  702e5fcc-00bf-4722-8f3e-9b16b211e8de  Fully Paid           99999999.0   \n",
       "37407  b3110f03-0c03-45f5-9ca6-e368a1d39f40  Fully Paid           99999999.0   \n",
       "67399  a147b553-a0f1-4773-910d-9b1af0052324  Fully Paid           99999999.0   \n",
       "268    e25e2a25-19db-4100-97fc-18282b8c98a0  Fully Paid           99999999.0   \n",
       "31271  2c2a199f-48b3-4b9b-91b4-e013dc45503c  Fully Paid           99999999.0   \n",
       "...                                     ...         ...                  ...   \n",
       "84896  e2293f56-2414-49dc-9bd7-5fbb2d64d385  Fully Paid           99999999.0   \n",
       "52733  64577063-c0ec-4273-acab-e55105467aae  Fully Paid           99999999.0   \n",
       "95003  a35a43a7-67dd-4989-a707-a389b6614beb  Fully Paid           99999999.0   \n",
       "35222  a34e5841-7dad-4ec2-ac11-337cdc831782  Fully Paid           99999999.0   \n",
       "78953  4aab697b-1f80-4d98-a83d-7b7b0804be2d  Fully Paid           99999999.0   \n",
       "\n",
       "             Term  Credit_Score  Annual_Income Years_in_current_job  \\\n",
       "48427   Long Term         688.0       674975.0              5 years   \n",
       "37407   Long Term         696.0       851846.0              9 years   \n",
       "67399   Long Term         667.0      1412897.0            10+ years   \n",
       "268    Short Term         721.0       805733.0            10+ years   \n",
       "31271   Long Term         678.0      1606279.0             < 1 year   \n",
       "...           ...           ...            ...                  ...   \n",
       "84896   Long Term         722.0      1248186.0              8 years   \n",
       "52733   Long Term         723.0      2412696.0              7 years   \n",
       "95003   Long Term         670.0      5225931.0              5 years   \n",
       "35222  Short Term         683.0       843372.0              3 years   \n",
       "78953   Long Term         715.0      2123326.0             < 1 year   \n",
       "\n",
       "      Home_Ownership             Purpose  Monthly_Debt  \\\n",
       "48427           Rent       Business Loan       5495.37   \n",
       "37407       Own Home  Debt Consolidation      10647.98   \n",
       "67399           Rent  Debt Consolidation      36970.58   \n",
       "268    Home Mortgage  Debt Consolidation      12757.55   \n",
       "31271  Home Mortgage  Debt Consolidation      14858.00   \n",
       "...              ...                 ...           ...   \n",
       "84896  Home Mortgage  Debt Consolidation      13729.97   \n",
       "52733  Home Mortgage  Debt Consolidation      12425.43   \n",
       "95003           Rent  Debt Consolidation      18813.42   \n",
       "35222  Home Mortgage  Debt Consolidation      13283.09   \n",
       "78953           Rent  Debt Consolidation      53436.93   \n",
       "\n",
       "       Years_of_Credit_History  Months_since_last_delinquent  \\\n",
       "48427                     14.7                          45.0   \n",
       "37407                      9.5                           NaN   \n",
       "67399                     22.7                          60.0   \n",
       "268                       15.9                          45.0   \n",
       "31271                     29.5                          23.0   \n",
       "...                        ...                           ...   \n",
       "84896                     17.5                           NaN   \n",
       "52733                     28.0                           NaN   \n",
       "95003                     23.7                          37.0   \n",
       "35222                     12.9                           NaN   \n",
       "78953                     18.0                           NaN   \n",
       "\n",
       "       Number_of_Open_Accounts  Number_of_Credit_Problems  \\\n",
       "48427                     12.0                        0.0   \n",
       "37407                      8.0                        0.0   \n",
       "67399                     12.0                        0.0   \n",
       "268                        9.0                        0.0   \n",
       "31271                     20.0                        1.0   \n",
       "...                        ...                        ...   \n",
       "84896                      8.0                        0.0   \n",
       "52733                     11.0                        0.0   \n",
       "95003                     13.0                        0.0   \n",
       "35222                     12.0                        0.0   \n",
       "78953                     16.0                        0.0   \n",
       "\n",
       "       Current_Credit_Balance  Maximum_Open_Credit  Bankruptcies  Tax_Liens  \n",
       "48427                157453.0             415316.0           0.0        0.0  \n",
       "37407                129219.0             487366.0           0.0        0.0  \n",
       "67399                315248.0             651816.0           0.0        0.0  \n",
       "268                   93347.0             195448.0           0.0        0.0  \n",
       "31271                203205.0             312884.0           1.0        0.0  \n",
       "...                       ...                  ...           ...        ...  \n",
       "84896                526376.0             731698.0           0.0        0.0  \n",
       "52733                367897.0             777348.0           0.0        0.0  \n",
       "95003                742596.0            1682692.0           0.0        0.0  \n",
       "35222                534508.0             724724.0           0.0        0.0  \n",
       "78953                679592.0            1169234.0           0.0        0.0  \n",
       "\n",
       "[1138 rows x 19 columns]"
      ]
     },
     "execution_count": 19,
     "metadata": {},
     "output_type": "execute_result"
    }
   ],
   "source": [
    "df_train[(df_train.Loan_ID.duplicated() & (df_train['Current_Loan_Amount'] == 99999999.0))]"
   ]
  },
  {
   "cell_type": "code",
   "execution_count": 20,
   "metadata": {},
   "outputs": [
    {
     "name": "stderr",
     "output_type": "stream",
     "text": [
      "/Users/forrest/.pyenv/versions/anaconda3-5.0.1/lib/python3.6/site-packages/ipykernel_launcher.py:2: UserWarning: Boolean Series key will be reindexed to match DataFrame index.\n",
      "  \n"
     ]
    }
   ],
   "source": [
    "df_train = df_train[~(df_train.Loan_ID.duplicated() & (df_train['Current_Loan_Amount'] == 99999999.0))]\n",
    "df_test = df_test[~(df_test.Loan_ID.duplicated() & (df_train['Current_Loan_Amount'] == 99999999.0))]"
   ]
  },
  {
   "cell_type": "code",
   "execution_count": 21,
   "metadata": {},
   "outputs": [
    {
     "data": {
      "text/html": [
       "<div>\n",
       "<style scoped>\n",
       "    .dataframe tbody tr th:only-of-type {\n",
       "        vertical-align: middle;\n",
       "    }\n",
       "\n",
       "    .dataframe tbody tr th {\n",
       "        vertical-align: top;\n",
       "    }\n",
       "\n",
       "    .dataframe thead th {\n",
       "        text-align: right;\n",
       "    }\n",
       "</style>\n",
       "<table border=\"1\" class=\"dataframe\">\n",
       "  <thead>\n",
       "    <tr style=\"text-align: right;\">\n",
       "      <th></th>\n",
       "      <th>Loan_ID</th>\n",
       "      <th>Customer_ID</th>\n",
       "      <th>Loan_Status</th>\n",
       "      <th>Current_Loan_Amount</th>\n",
       "      <th>Term</th>\n",
       "      <th>Credit_Score</th>\n",
       "      <th>Annual_Income</th>\n",
       "      <th>Years_in_current_job</th>\n",
       "      <th>Home_Ownership</th>\n",
       "      <th>Purpose</th>\n",
       "      <th>Monthly_Debt</th>\n",
       "      <th>Years_of_Credit_History</th>\n",
       "      <th>Months_since_last_delinquent</th>\n",
       "      <th>Number_of_Open_Accounts</th>\n",
       "      <th>Number_of_Credit_Problems</th>\n",
       "      <th>Current_Credit_Balance</th>\n",
       "      <th>Maximum_Open_Credit</th>\n",
       "      <th>Bankruptcies</th>\n",
       "      <th>Tax_Liens</th>\n",
       "    </tr>\n",
       "  </thead>\n",
       "  <tbody>\n",
       "    <tr>\n",
       "      <th>48159</th>\n",
       "      <td>ccb4bff4-4103-4220-bd6a-7cf8d97660f2</td>\n",
       "      <td>f7ad2ea9-c1a2-4020-8db9-d1ce98dd9cac</td>\n",
       "      <td>Fully Paid</td>\n",
       "      <td>215512.0</td>\n",
       "      <td>Short Term</td>\n",
       "      <td>716.0</td>\n",
       "      <td>1302868.0</td>\n",
       "      <td>7 years</td>\n",
       "      <td>Rent</td>\n",
       "      <td>Debt Consolidation</td>\n",
       "      <td>5830.34</td>\n",
       "      <td>13.8</td>\n",
       "      <td>NaN</td>\n",
       "      <td>6.0</td>\n",
       "      <td>0.0</td>\n",
       "      <td>84284.0</td>\n",
       "      <td>325270.0</td>\n",
       "      <td>0.0</td>\n",
       "      <td>0.0</td>\n",
       "    </tr>\n",
       "    <tr>\n",
       "      <th>72222</th>\n",
       "      <td>cb1970cb-57d1-4d98-9889-c95b36e4c72a</td>\n",
       "      <td>9a4fded3-a8a1-42e2-b10e-31ce3925e444</td>\n",
       "      <td>Fully Paid</td>\n",
       "      <td>357808.0</td>\n",
       "      <td>Long Term</td>\n",
       "      <td>671.0</td>\n",
       "      <td>1158810.0</td>\n",
       "      <td>2 years</td>\n",
       "      <td>Home Mortgage</td>\n",
       "      <td>Debt Consolidation</td>\n",
       "      <td>29260.00</td>\n",
       "      <td>12.5</td>\n",
       "      <td>1.0</td>\n",
       "      <td>27.0</td>\n",
       "      <td>0.0</td>\n",
       "      <td>331759.0</td>\n",
       "      <td>1401994.0</td>\n",
       "      <td>0.0</td>\n",
       "      <td>0.0</td>\n",
       "    </tr>\n",
       "    <tr>\n",
       "      <th>35114</th>\n",
       "      <td>6c36c90c-da96-42cf-b46d-81f50ec470f3</td>\n",
       "      <td>8a4d6d5b-69e0-4bde-afb2-cc1d3e8b831f</td>\n",
       "      <td>Fully Paid</td>\n",
       "      <td>456786.0</td>\n",
       "      <td>Long Term</td>\n",
       "      <td>700.0</td>\n",
       "      <td>1327606.0</td>\n",
       "      <td>1 year</td>\n",
       "      <td>Rent</td>\n",
       "      <td>Debt Consolidation</td>\n",
       "      <td>3186.30</td>\n",
       "      <td>15.2</td>\n",
       "      <td>51.0</td>\n",
       "      <td>5.0</td>\n",
       "      <td>0.0</td>\n",
       "      <td>105355.0</td>\n",
       "      <td>153626.0</td>\n",
       "      <td>0.0</td>\n",
       "      <td>0.0</td>\n",
       "    </tr>\n",
       "    <tr>\n",
       "      <th>50326</th>\n",
       "      <td>58d48443-93b1-4443-bd65-3ecd0fbbf9f7</td>\n",
       "      <td>d5d43933-bf2d-4b95-87e9-7b743568b618</td>\n",
       "      <td>Fully Paid</td>\n",
       "      <td>543290.0</td>\n",
       "      <td>Long Term</td>\n",
       "      <td>699.0</td>\n",
       "      <td>1370071.0</td>\n",
       "      <td>10+ years</td>\n",
       "      <td>Rent</td>\n",
       "      <td>Debt Consolidation</td>\n",
       "      <td>11017.72</td>\n",
       "      <td>14.1</td>\n",
       "      <td>NaN</td>\n",
       "      <td>8.0</td>\n",
       "      <td>0.0</td>\n",
       "      <td>340404.0</td>\n",
       "      <td>532620.0</td>\n",
       "      <td>0.0</td>\n",
       "      <td>0.0</td>\n",
       "    </tr>\n",
       "    <tr>\n",
       "      <th>2612</th>\n",
       "      <td>02287061-2f82-4870-a84f-7895ae1ad907</td>\n",
       "      <td>2a74c9b8-d631-46b4-aa2d-7b8b8b668034</td>\n",
       "      <td>Fully Paid</td>\n",
       "      <td>324148.0</td>\n",
       "      <td>Short Term</td>\n",
       "      <td>NaN</td>\n",
       "      <td>NaN</td>\n",
       "      <td>2 years</td>\n",
       "      <td>Own Home</td>\n",
       "      <td>Debt Consolidation</td>\n",
       "      <td>16480.98</td>\n",
       "      <td>5.7</td>\n",
       "      <td>NaN</td>\n",
       "      <td>14.0</td>\n",
       "      <td>0.0</td>\n",
       "      <td>22819.0</td>\n",
       "      <td>911284.0</td>\n",
       "      <td>0.0</td>\n",
       "      <td>0.0</td>\n",
       "    </tr>\n",
       "    <tr>\n",
       "      <th>...</th>\n",
       "      <td>...</td>\n",
       "      <td>...</td>\n",
       "      <td>...</td>\n",
       "      <td>...</td>\n",
       "      <td>...</td>\n",
       "      <td>...</td>\n",
       "      <td>...</td>\n",
       "      <td>...</td>\n",
       "      <td>...</td>\n",
       "      <td>...</td>\n",
       "      <td>...</td>\n",
       "      <td>...</td>\n",
       "      <td>...</td>\n",
       "      <td>...</td>\n",
       "      <td>...</td>\n",
       "      <td>...</td>\n",
       "      <td>...</td>\n",
       "      <td>...</td>\n",
       "      <td>...</td>\n",
       "    </tr>\n",
       "    <tr>\n",
       "      <th>11394</th>\n",
       "      <td>abfdae7a-3bda-42db-ba79-4b9c059764bb</td>\n",
       "      <td>0a6c36c7-001d-4d98-9f35-26e0365228fa</td>\n",
       "      <td>Fully Paid</td>\n",
       "      <td>429088.0</td>\n",
       "      <td>Long Term</td>\n",
       "      <td>NaN</td>\n",
       "      <td>NaN</td>\n",
       "      <td>10+ years</td>\n",
       "      <td>Home Mortgage</td>\n",
       "      <td>Debt Consolidation</td>\n",
       "      <td>27129.34</td>\n",
       "      <td>12.3</td>\n",
       "      <td>NaN</td>\n",
       "      <td>13.0</td>\n",
       "      <td>0.0</td>\n",
       "      <td>351329.0</td>\n",
       "      <td>605352.0</td>\n",
       "      <td>0.0</td>\n",
       "      <td>0.0</td>\n",
       "    </tr>\n",
       "    <tr>\n",
       "      <th>67435</th>\n",
       "      <td>f35b054f-30c1-4e13-af01-685db773770f</td>\n",
       "      <td>3a42402c-3996-4021-a935-185eb1754fb1</td>\n",
       "      <td>Fully Paid</td>\n",
       "      <td>207086.0</td>\n",
       "      <td>Short Term</td>\n",
       "      <td>723.0</td>\n",
       "      <td>1645457.0</td>\n",
       "      <td>10+ years</td>\n",
       "      <td>Rent</td>\n",
       "      <td>other</td>\n",
       "      <td>34143.00</td>\n",
       "      <td>19.8</td>\n",
       "      <td>10.0</td>\n",
       "      <td>11.0</td>\n",
       "      <td>0.0</td>\n",
       "      <td>232218.0</td>\n",
       "      <td>321244.0</td>\n",
       "      <td>0.0</td>\n",
       "      <td>0.0</td>\n",
       "    </tr>\n",
       "    <tr>\n",
       "      <th>84654</th>\n",
       "      <td>47f27c67-3199-4aa4-a700-826e4a4b922c</td>\n",
       "      <td>d2b60744-df1a-4e25-a2f0-5ae12e6d31aa</td>\n",
       "      <td>Fully Paid</td>\n",
       "      <td>546260.0</td>\n",
       "      <td>Long Term</td>\n",
       "      <td>725.0</td>\n",
       "      <td>1698372.0</td>\n",
       "      <td>10+ years</td>\n",
       "      <td>Rent</td>\n",
       "      <td>Debt Consolidation</td>\n",
       "      <td>21512.75</td>\n",
       "      <td>17.5</td>\n",
       "      <td>12.0</td>\n",
       "      <td>19.0</td>\n",
       "      <td>0.0</td>\n",
       "      <td>88787.0</td>\n",
       "      <td>1606352.0</td>\n",
       "      <td>0.0</td>\n",
       "      <td>0.0</td>\n",
       "    </tr>\n",
       "    <tr>\n",
       "      <th>53707</th>\n",
       "      <td>5f51b043-e1cb-4022-8085-1aed0142d5f0</td>\n",
       "      <td>8a187950-2cc1-470b-852e-d32e13cb49af</td>\n",
       "      <td>Fully Paid</td>\n",
       "      <td>99242.0</td>\n",
       "      <td>Short Term</td>\n",
       "      <td>703.0</td>\n",
       "      <td>666596.0</td>\n",
       "      <td>3 years</td>\n",
       "      <td>Own Home</td>\n",
       "      <td>Debt Consolidation</td>\n",
       "      <td>9110.12</td>\n",
       "      <td>9.1</td>\n",
       "      <td>18.0</td>\n",
       "      <td>9.0</td>\n",
       "      <td>0.0</td>\n",
       "      <td>126882.0</td>\n",
       "      <td>282546.0</td>\n",
       "      <td>0.0</td>\n",
       "      <td>0.0</td>\n",
       "    </tr>\n",
       "    <tr>\n",
       "      <th>5311</th>\n",
       "      <td>171fa398-bd51-468a-bb13-78899d101527</td>\n",
       "      <td>28e63dd2-762a-4b6a-b931-d77131e8347b</td>\n",
       "      <td>Fully Paid</td>\n",
       "      <td>774862.0</td>\n",
       "      <td>Long Term</td>\n",
       "      <td>691.0</td>\n",
       "      <td>2781923.0</td>\n",
       "      <td>10+ years</td>\n",
       "      <td>Home Mortgage</td>\n",
       "      <td>Debt Consolidation</td>\n",
       "      <td>66302.40</td>\n",
       "      <td>23.2</td>\n",
       "      <td>5.0</td>\n",
       "      <td>21.0</td>\n",
       "      <td>0.0</td>\n",
       "      <td>2088670.0</td>\n",
       "      <td>2963796.0</td>\n",
       "      <td>0.0</td>\n",
       "      <td>0.0</td>\n",
       "    </tr>\n",
       "  </tbody>\n",
       "</table>\n",
       "<p>3856 rows × 19 columns</p>\n",
       "</div>"
      ],
      "text/plain": [
       "                                    Loan_ID  \\\n",
       "48159  ccb4bff4-4103-4220-bd6a-7cf8d97660f2   \n",
       "72222  cb1970cb-57d1-4d98-9889-c95b36e4c72a   \n",
       "35114  6c36c90c-da96-42cf-b46d-81f50ec470f3   \n",
       "50326  58d48443-93b1-4443-bd65-3ecd0fbbf9f7   \n",
       "2612   02287061-2f82-4870-a84f-7895ae1ad907   \n",
       "...                                     ...   \n",
       "11394  abfdae7a-3bda-42db-ba79-4b9c059764bb   \n",
       "67435  f35b054f-30c1-4e13-af01-685db773770f   \n",
       "84654  47f27c67-3199-4aa4-a700-826e4a4b922c   \n",
       "53707  5f51b043-e1cb-4022-8085-1aed0142d5f0   \n",
       "5311   171fa398-bd51-468a-bb13-78899d101527   \n",
       "\n",
       "                                Customer_ID Loan_Status  Current_Loan_Amount  \\\n",
       "48159  f7ad2ea9-c1a2-4020-8db9-d1ce98dd9cac  Fully Paid             215512.0   \n",
       "72222  9a4fded3-a8a1-42e2-b10e-31ce3925e444  Fully Paid             357808.0   \n",
       "35114  8a4d6d5b-69e0-4bde-afb2-cc1d3e8b831f  Fully Paid             456786.0   \n",
       "50326  d5d43933-bf2d-4b95-87e9-7b743568b618  Fully Paid             543290.0   \n",
       "2612   2a74c9b8-d631-46b4-aa2d-7b8b8b668034  Fully Paid             324148.0   \n",
       "...                                     ...         ...                  ...   \n",
       "11394  0a6c36c7-001d-4d98-9f35-26e0365228fa  Fully Paid             429088.0   \n",
       "67435  3a42402c-3996-4021-a935-185eb1754fb1  Fully Paid             207086.0   \n",
       "84654  d2b60744-df1a-4e25-a2f0-5ae12e6d31aa  Fully Paid             546260.0   \n",
       "53707  8a187950-2cc1-470b-852e-d32e13cb49af  Fully Paid              99242.0   \n",
       "5311   28e63dd2-762a-4b6a-b931-d77131e8347b  Fully Paid             774862.0   \n",
       "\n",
       "             Term  Credit_Score  Annual_Income Years_in_current_job  \\\n",
       "48159  Short Term         716.0      1302868.0              7 years   \n",
       "72222   Long Term         671.0      1158810.0              2 years   \n",
       "35114   Long Term         700.0      1327606.0               1 year   \n",
       "50326   Long Term         699.0      1370071.0            10+ years   \n",
       "2612   Short Term           NaN            NaN              2 years   \n",
       "...           ...           ...            ...                  ...   \n",
       "11394   Long Term           NaN            NaN            10+ years   \n",
       "67435  Short Term         723.0      1645457.0            10+ years   \n",
       "84654   Long Term         725.0      1698372.0            10+ years   \n",
       "53707  Short Term         703.0       666596.0              3 years   \n",
       "5311    Long Term         691.0      2781923.0            10+ years   \n",
       "\n",
       "      Home_Ownership             Purpose  Monthly_Debt  \\\n",
       "48159           Rent  Debt Consolidation       5830.34   \n",
       "72222  Home Mortgage  Debt Consolidation      29260.00   \n",
       "35114           Rent  Debt Consolidation       3186.30   \n",
       "50326           Rent  Debt Consolidation      11017.72   \n",
       "2612        Own Home  Debt Consolidation      16480.98   \n",
       "...              ...                 ...           ...   \n",
       "11394  Home Mortgage  Debt Consolidation      27129.34   \n",
       "67435           Rent               other      34143.00   \n",
       "84654           Rent  Debt Consolidation      21512.75   \n",
       "53707       Own Home  Debt Consolidation       9110.12   \n",
       "5311   Home Mortgage  Debt Consolidation      66302.40   \n",
       "\n",
       "       Years_of_Credit_History  Months_since_last_delinquent  \\\n",
       "48159                     13.8                           NaN   \n",
       "72222                     12.5                           1.0   \n",
       "35114                     15.2                          51.0   \n",
       "50326                     14.1                           NaN   \n",
       "2612                       5.7                           NaN   \n",
       "...                        ...                           ...   \n",
       "11394                     12.3                           NaN   \n",
       "67435                     19.8                          10.0   \n",
       "84654                     17.5                          12.0   \n",
       "53707                      9.1                          18.0   \n",
       "5311                      23.2                           5.0   \n",
       "\n",
       "       Number_of_Open_Accounts  Number_of_Credit_Problems  \\\n",
       "48159                      6.0                        0.0   \n",
       "72222                     27.0                        0.0   \n",
       "35114                      5.0                        0.0   \n",
       "50326                      8.0                        0.0   \n",
       "2612                      14.0                        0.0   \n",
       "...                        ...                        ...   \n",
       "11394                     13.0                        0.0   \n",
       "67435                     11.0                        0.0   \n",
       "84654                     19.0                        0.0   \n",
       "53707                      9.0                        0.0   \n",
       "5311                      21.0                        0.0   \n",
       "\n",
       "       Current_Credit_Balance  Maximum_Open_Credit  Bankruptcies  Tax_Liens  \n",
       "48159                 84284.0             325270.0           0.0        0.0  \n",
       "72222                331759.0            1401994.0           0.0        0.0  \n",
       "35114                105355.0             153626.0           0.0        0.0  \n",
       "50326                340404.0             532620.0           0.0        0.0  \n",
       "2612                  22819.0             911284.0           0.0        0.0  \n",
       "...                       ...                  ...           ...        ...  \n",
       "11394                351329.0             605352.0           0.0        0.0  \n",
       "67435                232218.0             321244.0           0.0        0.0  \n",
       "84654                 88787.0            1606352.0           0.0        0.0  \n",
       "53707                126882.0             282546.0           0.0        0.0  \n",
       "5311                2088670.0            2963796.0           0.0        0.0  \n",
       "\n",
       "[3856 rows x 19 columns]"
      ]
     },
     "execution_count": 21,
     "metadata": {},
     "output_type": "execute_result"
    }
   ],
   "source": [
    "df_train[(df_train.Loan_ID.duplicated())]"
   ]
  },
  {
   "cell_type": "code",
   "execution_count": 22,
   "metadata": {},
   "outputs": [
    {
     "data": {
      "text/html": [
       "<div>\n",
       "<style scoped>\n",
       "    .dataframe tbody tr th:only-of-type {\n",
       "        vertical-align: middle;\n",
       "    }\n",
       "\n",
       "    .dataframe tbody tr th {\n",
       "        vertical-align: top;\n",
       "    }\n",
       "\n",
       "    .dataframe thead th {\n",
       "        text-align: right;\n",
       "    }\n",
       "</style>\n",
       "<table border=\"1\" class=\"dataframe\">\n",
       "  <thead>\n",
       "    <tr style=\"text-align: right;\">\n",
       "      <th></th>\n",
       "      <th>Loan_ID</th>\n",
       "      <th>Customer_ID</th>\n",
       "      <th>Loan_Status</th>\n",
       "      <th>Current_Loan_Amount</th>\n",
       "      <th>Term</th>\n",
       "      <th>Credit_Score</th>\n",
       "      <th>Annual_Income</th>\n",
       "      <th>Years_in_current_job</th>\n",
       "      <th>Home_Ownership</th>\n",
       "      <th>Purpose</th>\n",
       "      <th>Monthly_Debt</th>\n",
       "      <th>Years_of_Credit_History</th>\n",
       "      <th>Months_since_last_delinquent</th>\n",
       "      <th>Number_of_Open_Accounts</th>\n",
       "      <th>Number_of_Credit_Problems</th>\n",
       "      <th>Current_Credit_Balance</th>\n",
       "      <th>Maximum_Open_Credit</th>\n",
       "      <th>Bankruptcies</th>\n",
       "      <th>Tax_Liens</th>\n",
       "    </tr>\n",
       "  </thead>\n",
       "  <tbody>\n",
       "    <tr>\n",
       "      <th>18178</th>\n",
       "      <td>ccb4bff4-4103-4220-bd6a-7cf8d97660f2</td>\n",
       "      <td>f7ad2ea9-c1a2-4020-8db9-d1ce98dd9cac</td>\n",
       "      <td>Fully Paid</td>\n",
       "      <td>215512.0</td>\n",
       "      <td>Short Term</td>\n",
       "      <td>NaN</td>\n",
       "      <td>NaN</td>\n",
       "      <td>7 years</td>\n",
       "      <td>Rent</td>\n",
       "      <td>Debt Consolidation</td>\n",
       "      <td>5830.34</td>\n",
       "      <td>13.8</td>\n",
       "      <td>NaN</td>\n",
       "      <td>6.0</td>\n",
       "      <td>0.0</td>\n",
       "      <td>84284.0</td>\n",
       "      <td>325270.0</td>\n",
       "      <td>0.0</td>\n",
       "      <td>0.0</td>\n",
       "    </tr>\n",
       "    <tr>\n",
       "      <th>48159</th>\n",
       "      <td>ccb4bff4-4103-4220-bd6a-7cf8d97660f2</td>\n",
       "      <td>f7ad2ea9-c1a2-4020-8db9-d1ce98dd9cac</td>\n",
       "      <td>Fully Paid</td>\n",
       "      <td>215512.0</td>\n",
       "      <td>Short Term</td>\n",
       "      <td>716.0</td>\n",
       "      <td>1302868.0</td>\n",
       "      <td>7 years</td>\n",
       "      <td>Rent</td>\n",
       "      <td>Debt Consolidation</td>\n",
       "      <td>5830.34</td>\n",
       "      <td>13.8</td>\n",
       "      <td>NaN</td>\n",
       "      <td>6.0</td>\n",
       "      <td>0.0</td>\n",
       "      <td>84284.0</td>\n",
       "      <td>325270.0</td>\n",
       "      <td>0.0</td>\n",
       "      <td>0.0</td>\n",
       "    </tr>\n",
       "  </tbody>\n",
       "</table>\n",
       "</div>"
      ],
      "text/plain": [
       "                                    Loan_ID  \\\n",
       "18178  ccb4bff4-4103-4220-bd6a-7cf8d97660f2   \n",
       "48159  ccb4bff4-4103-4220-bd6a-7cf8d97660f2   \n",
       "\n",
       "                                Customer_ID Loan_Status  Current_Loan_Amount  \\\n",
       "18178  f7ad2ea9-c1a2-4020-8db9-d1ce98dd9cac  Fully Paid             215512.0   \n",
       "48159  f7ad2ea9-c1a2-4020-8db9-d1ce98dd9cac  Fully Paid             215512.0   \n",
       "\n",
       "             Term  Credit_Score  Annual_Income Years_in_current_job  \\\n",
       "18178  Short Term           NaN            NaN              7 years   \n",
       "48159  Short Term         716.0      1302868.0              7 years   \n",
       "\n",
       "      Home_Ownership             Purpose  Monthly_Debt  \\\n",
       "18178           Rent  Debt Consolidation       5830.34   \n",
       "48159           Rent  Debt Consolidation       5830.34   \n",
       "\n",
       "       Years_of_Credit_History  Months_since_last_delinquent  \\\n",
       "18178                     13.8                           NaN   \n",
       "48159                     13.8                           NaN   \n",
       "\n",
       "       Number_of_Open_Accounts  Number_of_Credit_Problems  \\\n",
       "18178                      6.0                        0.0   \n",
       "48159                      6.0                        0.0   \n",
       "\n",
       "       Current_Credit_Balance  Maximum_Open_Credit  Bankruptcies  Tax_Liens  \n",
       "18178                 84284.0             325270.0           0.0        0.0  \n",
       "48159                 84284.0             325270.0           0.0        0.0  "
      ]
     },
     "execution_count": 22,
     "metadata": {},
     "output_type": "execute_result"
    }
   ],
   "source": [
    "df_train[df_train['Loan_ID'] == 'ccb4bff4-4103-4220-bd6a-7cf8d97660f2']"
   ]
  },
  {
   "cell_type": "code",
   "execution_count": 23,
   "metadata": {
    "collapsed": true
   },
   "outputs": [],
   "source": [
    "df_train = df_train.dropna(subset = ['Annual_Income'])\n",
    "df_test = df_test.dropna(subset = ['Annual_Income'])"
   ]
  },
  {
   "cell_type": "code",
   "execution_count": 24,
   "metadata": {},
   "outputs": [
    {
     "data": {
      "text/plain": [
       "array(['Debt Consolidation', 'Buy House', 'Home Improvements', 'other',\n",
       "       'Other', 'Business Loan', 'small_business', 'Take a Trip',\n",
       "       'Buy a Car', 'Medical Bills', 'major_purchase', 'moving',\n",
       "       'wedding', 'Educational Expenses', 'renewable_energy', 'vacation'],\n",
       "      dtype=object)"
      ]
     },
     "execution_count": 24,
     "metadata": {},
     "output_type": "execute_result"
    }
   ],
   "source": [
    "df_train.Purpose.unique()"
   ]
  },
  {
   "cell_type": "code",
   "execution_count": 25,
   "metadata": {
    "collapsed": true
   },
   "outputs": [],
   "source": [
    "df_train.Purpose = df_train.Purpose.str.replace('other','Other')\n",
    "df_test.Purpose = df_test.Purpose.str.replace('other','Other')"
   ]
  },
  {
   "cell_type": "code",
   "execution_count": 26,
   "metadata": {},
   "outputs": [
    {
     "data": {
      "text/plain": [
       "array(['Debt Consolidation', 'Buy House', 'Home Improvements', 'Other',\n",
       "       'Business Loan', 'small_business', 'Take a Trip', 'Buy a Car',\n",
       "       'Medical Bills', 'major_purchase', 'moving', 'wedding',\n",
       "       'Educational Expenses', 'renewable_energy', 'vacation'],\n",
       "      dtype=object)"
      ]
     },
     "execution_count": 26,
     "metadata": {},
     "output_type": "execute_result"
    }
   ],
   "source": [
    "df_train.Purpose.unique()"
   ]
  },
  {
   "cell_type": "code",
   "execution_count": 27,
   "metadata": {},
   "outputs": [
    {
     "data": {
      "text/plain": [
       "Loan_ID                             0\n",
       "Customer_ID                         0\n",
       "Loan_Status                         0\n",
       "Current_Loan_Amount                 0\n",
       "Term                                0\n",
       "Credit_Score                        0\n",
       "Annual_Income                       0\n",
       "Years_in_current_job             2416\n",
       "Home_Ownership                      0\n",
       "Purpose                             0\n",
       "Monthly_Debt                        0\n",
       "Years_of_Credit_History             0\n",
       "Months_since_last_delinquent    30431\n",
       "Number_of_Open_Accounts             0\n",
       "Number_of_Credit_Problems           0\n",
       "Current_Credit_Balance              0\n",
       "Maximum_Open_Credit                 1\n",
       "Bankruptcies                      112\n",
       "Tax_Liens                           3\n",
       "dtype: int64"
      ]
     },
     "execution_count": 27,
     "metadata": {},
     "output_type": "execute_result"
    }
   ],
   "source": [
    "df_train.isnull().sum()"
   ]
  },
  {
   "cell_type": "code",
   "execution_count": 28,
   "metadata": {},
   "outputs": [
    {
     "data": {
      "text/plain": [
       "Loan_ID                             0\n",
       "Customer_ID                         0\n",
       "Loan_Status                         0\n",
       "Current_Loan_Amount                 0\n",
       "Term                                0\n",
       "Credit_Score                        0\n",
       "Annual_Income                       0\n",
       "Years_in_current_job             2368\n",
       "Home_Ownership                      0\n",
       "Purpose                             0\n",
       "Monthly_Debt                        0\n",
       "Years_of_Credit_History             0\n",
       "Months_since_last_delinquent    29853\n",
       "Number_of_Open_Accounts             0\n",
       "Number_of_Credit_Problems           0\n",
       "Current_Credit_Balance              0\n",
       "Maximum_Open_Credit                 1\n",
       "Bankruptcies                      109\n",
       "Tax_Liens                           3\n",
       "dtype: int64"
      ]
     },
     "execution_count": 28,
     "metadata": {},
     "output_type": "execute_result"
    }
   ],
   "source": [
    "df_train = df_train.drop_duplicates(subset = ['Loan_ID'])\n",
    "df_test = df_test.drop_duplicates(subset = ['Loan_ID'])\n",
    "df_train.isnull().sum()"
   ]
  },
  {
   "cell_type": "code",
   "execution_count": 29,
   "metadata": {},
   "outputs": [
    {
     "data": {
      "text/plain": [
       "10+ years    17404\n",
       "2 years       5070\n",
       "3 years       4582\n",
       "< 1 year      4518\n",
       "5 years       3850\n",
       "1 year        3579\n",
       "4 years       3379\n",
       "6 years       3165\n",
       "7 years       3097\n",
       "8 years       2563\n",
       "9 years       2143\n",
       "Name: Years_in_current_job, dtype: int64"
      ]
     },
     "execution_count": 29,
     "metadata": {},
     "output_type": "execute_result"
    }
   ],
   "source": [
    "df_train['Years_in_current_job'].value_counts()"
   ]
  },
  {
   "cell_type": "code",
   "execution_count": 30,
   "metadata": {},
   "outputs": [
    {
     "data": {
      "text/plain": [
       "Loan_ID                             0\n",
       "Customer_ID                         0\n",
       "Loan_Status                         0\n",
       "Current_Loan_Amount                 0\n",
       "Term                                0\n",
       "Credit_Score                        0\n",
       "Annual_Income                       0\n",
       "Years_in_current_job                0\n",
       "Home_Ownership                      0\n",
       "Purpose                             0\n",
       "Monthly_Debt                        0\n",
       "Years_of_Credit_History             0\n",
       "Months_since_last_delinquent    29853\n",
       "Number_of_Open_Accounts             0\n",
       "Number_of_Credit_Problems           0\n",
       "Current_Credit_Balance              0\n",
       "Maximum_Open_Credit                 1\n",
       "Bankruptcies                      109\n",
       "Tax_Liens                           3\n",
       "dtype: int64"
      ]
     },
     "execution_count": 30,
     "metadata": {},
     "output_type": "execute_result"
    }
   ],
   "source": [
    "df_train['Years_in_current_job'] = df_train['Years_in_current_job'].fillna('10+ years')\n",
    "df_test['Years_in_current_job'] = df_test['Years_in_current_job'].fillna('10+ years')\n",
    "df_train.isnull().sum()"
   ]
  },
  {
   "cell_type": "code",
   "execution_count": 31,
   "metadata": {
    "collapsed": true
   },
   "outputs": [],
   "source": [
    "df_train = df_train.drop(columns='Months_since_last_delinquent')\n",
    "df_test = df_test.drop(columns='Months_since_last_delinquent')"
   ]
  },
  {
   "cell_type": "code",
   "execution_count": 32,
   "metadata": {
    "collapsed": true
   },
   "outputs": [],
   "source": [
    "df_train = df_train.dropna()\n",
    "df_test = df_test.dropna()"
   ]
  },
  {
   "cell_type": "code",
   "execution_count": 33,
   "metadata": {},
   "outputs": [
    {
     "data": {
      "text/plain": [
       "Loan_ID                      0\n",
       "Customer_ID                  0\n",
       "Loan_Status                  0\n",
       "Current_Loan_Amount          0\n",
       "Term                         0\n",
       "Credit_Score                 0\n",
       "Annual_Income                0\n",
       "Years_in_current_job         0\n",
       "Home_Ownership               0\n",
       "Purpose                      0\n",
       "Monthly_Debt                 0\n",
       "Years_of_Credit_History      0\n",
       "Number_of_Open_Accounts      0\n",
       "Number_of_Credit_Problems    0\n",
       "Current_Credit_Balance       0\n",
       "Maximum_Open_Credit          0\n",
       "Bankruptcies                 0\n",
       "Tax_Liens                    0\n",
       "dtype: int64"
      ]
     },
     "execution_count": 33,
     "metadata": {},
     "output_type": "execute_result"
    }
   ],
   "source": [
    "df_train.isnull().sum()"
   ]
  },
  {
   "cell_type": "code",
   "execution_count": 34,
   "metadata": {},
   "outputs": [
    {
     "data": {
      "text/plain": [
       "0"
      ]
     },
     "execution_count": 34,
     "metadata": {},
     "output_type": "execute_result"
    }
   ],
   "source": [
    "df_train.duplicated().sum()"
   ]
  },
  {
   "cell_type": "code",
   "execution_count": 35,
   "metadata": {},
   "outputs": [
    {
     "name": "stdout",
     "output_type": "stream",
     "text": [
      "<class 'pandas.core.frame.DataFrame'>\n",
      "Int64Index: 55608 entries, 62725 to 860\n",
      "Data columns (total 18 columns):\n",
      " #   Column                     Non-Null Count  Dtype  \n",
      "---  ------                     --------------  -----  \n",
      " 0   Loan_ID                    55608 non-null  object \n",
      " 1   Customer_ID                55608 non-null  object \n",
      " 2   Loan_Status                55608 non-null  object \n",
      " 3   Current_Loan_Amount        55608 non-null  float64\n",
      " 4   Term                       55608 non-null  object \n",
      " 5   Credit_Score               55608 non-null  float64\n",
      " 6   Annual_Income              55608 non-null  float64\n",
      " 7   Years_in_current_job       55608 non-null  object \n",
      " 8   Home_Ownership             55608 non-null  object \n",
      " 9   Purpose                    55608 non-null  object \n",
      " 10  Monthly_Debt               55608 non-null  float64\n",
      " 11  Years_of_Credit_History    55608 non-null  float64\n",
      " 12  Number_of_Open_Accounts    55608 non-null  float64\n",
      " 13  Number_of_Credit_Problems  55608 non-null  float64\n",
      " 14  Current_Credit_Balance     55608 non-null  float64\n",
      " 15  Maximum_Open_Credit        55608 non-null  float64\n",
      " 16  Bankruptcies               55608 non-null  float64\n",
      " 17  Tax_Liens                  55608 non-null  float64\n",
      "dtypes: float64(11), object(7)\n",
      "memory usage: 8.1+ MB\n"
     ]
    }
   ],
   "source": [
    "df_train.info()"
   ]
  },
  {
   "cell_type": "code",
   "execution_count": 36,
   "metadata": {
    "collapsed": true
   },
   "outputs": [],
   "source": [
    "bank_lone_train = pd.get_dummies(df_train, columns =['Term','Home_Ownership','Purpose','Loan_Status', 'Years_in_current_job'], drop_first=True)\n",
    "bank_lone_test = pd.get_dummies(df_test, columns =['Term','Home_Ownership','Purpose','Loan_Status', 'Years_in_current_job'], drop_first=True)"
   ]
  },
  {
   "cell_type": "code",
   "execution_count": 37,
   "metadata": {},
   "outputs": [
    {
     "data": {
      "text/plain": [
       "Index(['Loan_ID', 'Customer_ID', 'Current_Loan_Amount', 'Credit_Score',\n",
       "       'Annual_Income', 'Monthly_Debt', 'Years_of_Credit_History',\n",
       "       'Number_of_Open_Accounts', 'Number_of_Credit_Problems',\n",
       "       'Current_Credit_Balance', 'Maximum_Open_Credit', 'Bankruptcies',\n",
       "       'Tax_Liens', 'Term_Short Term', 'Home_Ownership_Home Mortgage',\n",
       "       'Home_Ownership_Own Home', 'Home_Ownership_Rent', 'Purpose_Buy House',\n",
       "       'Purpose_Buy a Car', 'Purpose_Debt Consolidation',\n",
       "       'Purpose_Educational Expenses', 'Purpose_Home Improvements',\n",
       "       'Purpose_Medical Bills', 'Purpose_Other', 'Purpose_Take a Trip',\n",
       "       'Purpose_major_purchase', 'Purpose_moving', 'Purpose_renewable_energy',\n",
       "       'Purpose_small_business', 'Purpose_vacation', 'Purpose_wedding',\n",
       "       'Loan_Status_Fully Paid', 'Years_in_current_job_10+ years',\n",
       "       'Years_in_current_job_2 years', 'Years_in_current_job_3 years',\n",
       "       'Years_in_current_job_4 years', 'Years_in_current_job_5 years',\n",
       "       'Years_in_current_job_6 years', 'Years_in_current_job_7 years',\n",
       "       'Years_in_current_job_8 years', 'Years_in_current_job_9 years',\n",
       "       'Years_in_current_job_< 1 year'],\n",
       "      dtype='object')"
      ]
     },
     "execution_count": 37,
     "metadata": {},
     "output_type": "execute_result"
    }
   ],
   "source": [
    "bank_lone_train.columns"
   ]
  },
  {
   "cell_type": "code",
   "execution_count": 38,
   "metadata": {},
   "outputs": [
    {
     "data": {
      "text/html": [
       "<div>\n",
       "<style scoped>\n",
       "    .dataframe tbody tr th:only-of-type {\n",
       "        vertical-align: middle;\n",
       "    }\n",
       "\n",
       "    .dataframe tbody tr th {\n",
       "        vertical-align: top;\n",
       "    }\n",
       "\n",
       "    .dataframe thead th {\n",
       "        text-align: right;\n",
       "    }\n",
       "</style>\n",
       "<table border=\"1\" class=\"dataframe\">\n",
       "  <thead>\n",
       "    <tr style=\"text-align: right;\">\n",
       "      <th></th>\n",
       "      <th>Current_Loan_Amount</th>\n",
       "      <th>Credit_Score</th>\n",
       "      <th>Annual_Income</th>\n",
       "      <th>Monthly_Debt</th>\n",
       "      <th>Years_of_Credit_History</th>\n",
       "      <th>Number_of_Open_Accounts</th>\n",
       "      <th>Number_of_Credit_Problems</th>\n",
       "      <th>Current_Credit_Balance</th>\n",
       "      <th>Maximum_Open_Credit</th>\n",
       "      <th>Bankruptcies</th>\n",
       "      <th>Tax_Liens</th>\n",
       "    </tr>\n",
       "  </thead>\n",
       "  <tbody>\n",
       "    <tr>\n",
       "      <th>Current_Loan_Amount</th>\n",
       "      <td>1.000000</td>\n",
       "      <td>-0.105117</td>\n",
       "      <td>0.015514</td>\n",
       "      <td>-0.008151</td>\n",
       "      <td>0.026922</td>\n",
       "      <td>0.001346</td>\n",
       "      <td>-0.004906</td>\n",
       "      <td>0.006711</td>\n",
       "      <td>-0.000827</td>\n",
       "      <td>-0.001934</td>\n",
       "      <td>-0.002628</td>\n",
       "    </tr>\n",
       "    <tr>\n",
       "      <th>Credit_Score</th>\n",
       "      <td>-0.105117</td>\n",
       "      <td>1.000000</td>\n",
       "      <td>-0.014864</td>\n",
       "      <td>-0.000472</td>\n",
       "      <td>-0.013054</td>\n",
       "      <td>0.006577</td>\n",
       "      <td>0.000285</td>\n",
       "      <td>-0.003221</td>\n",
       "      <td>-0.003941</td>\n",
       "      <td>-0.003473</td>\n",
       "      <td>0.006607</td>\n",
       "    </tr>\n",
       "    <tr>\n",
       "      <th>Annual_Income</th>\n",
       "      <td>0.015514</td>\n",
       "      <td>-0.014864</td>\n",
       "      <td>1.000000</td>\n",
       "      <td>0.459476</td>\n",
       "      <td>0.148069</td>\n",
       "      <td>0.137162</td>\n",
       "      <td>-0.014591</td>\n",
       "      <td>0.304946</td>\n",
       "      <td>0.042415</td>\n",
       "      <td>-0.045649</td>\n",
       "      <td>0.040754</td>\n",
       "    </tr>\n",
       "    <tr>\n",
       "      <th>Monthly_Debt</th>\n",
       "      <td>-0.008151</td>\n",
       "      <td>-0.000472</td>\n",
       "      <td>0.459476</td>\n",
       "      <td>1.000000</td>\n",
       "      <td>0.194691</td>\n",
       "      <td>0.407775</td>\n",
       "      <td>-0.051059</td>\n",
       "      <td>0.484890</td>\n",
       "      <td>0.041829</td>\n",
       "      <td>-0.076626</td>\n",
       "      <td>0.021754</td>\n",
       "    </tr>\n",
       "    <tr>\n",
       "      <th>Years_of_Credit_History</th>\n",
       "      <td>0.026922</td>\n",
       "      <td>-0.013054</td>\n",
       "      <td>0.148069</td>\n",
       "      <td>0.194691</td>\n",
       "      <td>1.000000</td>\n",
       "      <td>0.131483</td>\n",
       "      <td>0.058908</td>\n",
       "      <td>0.210841</td>\n",
       "      <td>0.029104</td>\n",
       "      <td>0.061631</td>\n",
       "      <td>0.017174</td>\n",
       "    </tr>\n",
       "    <tr>\n",
       "      <th>Number_of_Open_Accounts</th>\n",
       "      <td>0.001346</td>\n",
       "      <td>0.006577</td>\n",
       "      <td>0.137162</td>\n",
       "      <td>0.407775</td>\n",
       "      <td>0.131483</td>\n",
       "      <td>1.000000</td>\n",
       "      <td>-0.014407</td>\n",
       "      <td>0.234957</td>\n",
       "      <td>0.033140</td>\n",
       "      <td>-0.025860</td>\n",
       "      <td>0.007073</td>\n",
       "    </tr>\n",
       "    <tr>\n",
       "      <th>Number_of_Credit_Problems</th>\n",
       "      <td>-0.004906</td>\n",
       "      <td>0.000285</td>\n",
       "      <td>-0.014591</td>\n",
       "      <td>-0.051059</td>\n",
       "      <td>0.058908</td>\n",
       "      <td>-0.014407</td>\n",
       "      <td>1.000000</td>\n",
       "      <td>-0.110801</td>\n",
       "      <td>-0.011297</td>\n",
       "      <td>0.749409</td>\n",
       "      <td>0.589154</td>\n",
       "    </tr>\n",
       "    <tr>\n",
       "      <th>Current_Credit_Balance</th>\n",
       "      <td>0.006711</td>\n",
       "      <td>-0.003221</td>\n",
       "      <td>0.304946</td>\n",
       "      <td>0.484890</td>\n",
       "      <td>0.210841</td>\n",
       "      <td>0.234957</td>\n",
       "      <td>-0.110801</td>\n",
       "      <td>1.000000</td>\n",
       "      <td>0.136300</td>\n",
       "      <td>-0.124809</td>\n",
       "      <td>-0.011894</td>\n",
       "    </tr>\n",
       "    <tr>\n",
       "      <th>Maximum_Open_Credit</th>\n",
       "      <td>-0.000827</td>\n",
       "      <td>-0.003941</td>\n",
       "      <td>0.042415</td>\n",
       "      <td>0.041829</td>\n",
       "      <td>0.029104</td>\n",
       "      <td>0.033140</td>\n",
       "      <td>-0.011297</td>\n",
       "      <td>0.136300</td>\n",
       "      <td>1.000000</td>\n",
       "      <td>-0.015012</td>\n",
       "      <td>-0.000835</td>\n",
       "    </tr>\n",
       "    <tr>\n",
       "      <th>Bankruptcies</th>\n",
       "      <td>-0.001934</td>\n",
       "      <td>-0.003473</td>\n",
       "      <td>-0.045649</td>\n",
       "      <td>-0.076626</td>\n",
       "      <td>0.061631</td>\n",
       "      <td>-0.025860</td>\n",
       "      <td>0.749409</td>\n",
       "      <td>-0.124809</td>\n",
       "      <td>-0.015012</td>\n",
       "      <td>1.000000</td>\n",
       "      <td>0.041065</td>\n",
       "    </tr>\n",
       "    <tr>\n",
       "      <th>Tax_Liens</th>\n",
       "      <td>-0.002628</td>\n",
       "      <td>0.006607</td>\n",
       "      <td>0.040754</td>\n",
       "      <td>0.021754</td>\n",
       "      <td>0.017174</td>\n",
       "      <td>0.007073</td>\n",
       "      <td>0.589154</td>\n",
       "      <td>-0.011894</td>\n",
       "      <td>-0.000835</td>\n",
       "      <td>0.041065</td>\n",
       "      <td>1.000000</td>\n",
       "    </tr>\n",
       "  </tbody>\n",
       "</table>\n",
       "</div>"
      ],
      "text/plain": [
       "                           Current_Loan_Amount  Credit_Score  Annual_Income  \\\n",
       "Current_Loan_Amount                   1.000000     -0.105117       0.015514   \n",
       "Credit_Score                         -0.105117      1.000000      -0.014864   \n",
       "Annual_Income                         0.015514     -0.014864       1.000000   \n",
       "Monthly_Debt                         -0.008151     -0.000472       0.459476   \n",
       "Years_of_Credit_History               0.026922     -0.013054       0.148069   \n",
       "Number_of_Open_Accounts               0.001346      0.006577       0.137162   \n",
       "Number_of_Credit_Problems            -0.004906      0.000285      -0.014591   \n",
       "Current_Credit_Balance                0.006711     -0.003221       0.304946   \n",
       "Maximum_Open_Credit                  -0.000827     -0.003941       0.042415   \n",
       "Bankruptcies                         -0.001934     -0.003473      -0.045649   \n",
       "Tax_Liens                            -0.002628      0.006607       0.040754   \n",
       "\n",
       "                           Monthly_Debt  Years_of_Credit_History  \\\n",
       "Current_Loan_Amount           -0.008151                 0.026922   \n",
       "Credit_Score                  -0.000472                -0.013054   \n",
       "Annual_Income                  0.459476                 0.148069   \n",
       "Monthly_Debt                   1.000000                 0.194691   \n",
       "Years_of_Credit_History        0.194691                 1.000000   \n",
       "Number_of_Open_Accounts        0.407775                 0.131483   \n",
       "Number_of_Credit_Problems     -0.051059                 0.058908   \n",
       "Current_Credit_Balance         0.484890                 0.210841   \n",
       "Maximum_Open_Credit            0.041829                 0.029104   \n",
       "Bankruptcies                  -0.076626                 0.061631   \n",
       "Tax_Liens                      0.021754                 0.017174   \n",
       "\n",
       "                           Number_of_Open_Accounts  Number_of_Credit_Problems  \\\n",
       "Current_Loan_Amount                       0.001346                  -0.004906   \n",
       "Credit_Score                              0.006577                   0.000285   \n",
       "Annual_Income                             0.137162                  -0.014591   \n",
       "Monthly_Debt                              0.407775                  -0.051059   \n",
       "Years_of_Credit_History                   0.131483                   0.058908   \n",
       "Number_of_Open_Accounts                   1.000000                  -0.014407   \n",
       "Number_of_Credit_Problems                -0.014407                   1.000000   \n",
       "Current_Credit_Balance                    0.234957                  -0.110801   \n",
       "Maximum_Open_Credit                       0.033140                  -0.011297   \n",
       "Bankruptcies                             -0.025860                   0.749409   \n",
       "Tax_Liens                                 0.007073                   0.589154   \n",
       "\n",
       "                           Current_Credit_Balance  Maximum_Open_Credit  \\\n",
       "Current_Loan_Amount                      0.006711            -0.000827   \n",
       "Credit_Score                            -0.003221            -0.003941   \n",
       "Annual_Income                            0.304946             0.042415   \n",
       "Monthly_Debt                             0.484890             0.041829   \n",
       "Years_of_Credit_History                  0.210841             0.029104   \n",
       "Number_of_Open_Accounts                  0.234957             0.033140   \n",
       "Number_of_Credit_Problems               -0.110801            -0.011297   \n",
       "Current_Credit_Balance                   1.000000             0.136300   \n",
       "Maximum_Open_Credit                      0.136300             1.000000   \n",
       "Bankruptcies                            -0.124809            -0.015012   \n",
       "Tax_Liens                               -0.011894            -0.000835   \n",
       "\n",
       "                           Bankruptcies  Tax_Liens  \n",
       "Current_Loan_Amount           -0.001934  -0.002628  \n",
       "Credit_Score                  -0.003473   0.006607  \n",
       "Annual_Income                 -0.045649   0.040754  \n",
       "Monthly_Debt                  -0.076626   0.021754  \n",
       "Years_of_Credit_History        0.061631   0.017174  \n",
       "Number_of_Open_Accounts       -0.025860   0.007073  \n",
       "Number_of_Credit_Problems      0.749409   0.589154  \n",
       "Current_Credit_Balance        -0.124809  -0.011894  \n",
       "Maximum_Open_Credit           -0.015012  -0.000835  \n",
       "Bankruptcies                   1.000000   0.041065  \n",
       "Tax_Liens                      0.041065   1.000000  "
      ]
     },
     "execution_count": 38,
     "metadata": {},
     "output_type": "execute_result"
    }
   ],
   "source": [
    "df_train.corr()"
   ]
  },
  {
   "cell_type": "code",
   "execution_count": 39,
   "metadata": {
    "collapsed": true
   },
   "outputs": [],
   "source": [
    "plt.figure(figsize=(10,8))\n",
    "data_corr = df_train.corr()\n",
    "mask = np.triu(np.ones_like(data_corr, dtype=np.bool))\n",
    "mask = mask[1:, :-1]\n",
    "corr = data_corr.iloc[1:,:-1].copy()\n",
    "sns.heatmap(corr, cmap = 'pink_r', annot = True, vmin= -1, vmax= 1, linewidths=1.5, fmt='.2f', mask=mask);\n",
    "plt.title('CORRELATION BETWEEN FEATURES\\n', loc='left', fontsize=18);"
   ]
  },
  {
   "cell_type": "code",
   "execution_count": 40,
   "metadata": {
    "collapsed": true
   },
   "outputs": [],
   "source": [
    "bank_lone_train = bank_lone_train[bank_lone_train['Current_Loan_Amount'] != 99999999]\n",
    "bank_lone_train = bank_lone_train[((bank_lone_train['Current_Loan_Amount'] <= 600000 )\n",
    "                                   & (bank_lone_train['Term_Short Term']==1))\n",
    "                                  | (bank_lone_train['Term_Short Term']==0)]\n",
    "\n",
    "bank_lone_test = bank_lone_test[bank_lone_test['Current_Loan_Amount'] != 99999999]\n",
    "bank_lone_test = bank_lone_test[((bank_lone_test['Current_Loan_Amount'] <= 600000 )\n",
    "                                   & (bank_lone_test['Term_Short Term']==1))\n",
    "                                  | (bank_lone_test['Term_Short Term']==0)]"
   ]
  },
  {
   "cell_type": "code",
   "execution_count": 41,
   "metadata": {
    "collapsed": true
   },
   "outputs": [],
   "source": [
    "bank_lone_train = bank_lone_train.loc[bank_lone_train['Credit_Score'] <= 1500,:]\n",
    "bank_lone_train = bank_lone_train.loc[bank_lone_train['Credit_Score'] >= 620 ,:]\n",
    "bank_lone_train = bank_lone_train[((bank_lone_train['Credit_Score'] >= 680 )\n",
    "                                   & (bank_lone_train['Term_Short Term']==1))| \n",
    "                                  (bank_lone_train['Term_Short Term']==0)]\n",
    "\n",
    "bank_lone_test = bank_lone_test.loc[bank_lone_test['Credit_Score'] <= 1500,:]\n",
    "bank_lone_test = bank_lone_test.loc[bank_lone_test['Credit_Score'] >= 620 ,:]\n",
    "bank_lone_test = bank_lone_test[((bank_lone_test['Credit_Score'] >= 680 )\n",
    "                                   & (bank_lone_test['Term_Short Term']==1))| \n",
    "                                  (bank_lone_test['Term_Short Term']==0)]"
   ]
  },
  {
   "cell_type": "code",
   "execution_count": 42,
   "metadata": {
    "collapsed": true
   },
   "outputs": [],
   "source": [
    "bank_lone_train = bank_lone_train.loc[bank_lone_train['Annual_Income'] <= 2750000,:]\n",
    "bank_lone_train = bank_lone_train[((bank_lone_train['Annual_Income'] <= 2395000 )\n",
    "                                   & (bank_lone_train['Term_Short Term']==1))\n",
    "                                  | (bank_lone_train['Term_Short Term']==0)]\n",
    "\n",
    "bank_lone_test = bank_lone_test.loc[bank_lone_test['Annual_Income'] <= 2750000,:]\n",
    "bank_lone_test = bank_lone_test[((bank_lone_test['Annual_Income'] <= 2395000 )\n",
    "                                   & (bank_lone_test['Term_Short Term']==1))\n",
    "                                  | (bank_lone_test['Term_Short Term']==0)]"
   ]
  },
  {
   "cell_type": "code",
   "execution_count": 43,
   "metadata": {
    "collapsed": true
   },
   "outputs": [],
   "source": [
    "bank_lone_train = bank_lone_train.loc[bank_lone_train['Monthly_Debt'] <= 44500,:]\n",
    "bank_lone_train = bank_lone_train[((bank_lone_train['Monthly_Debt'] <= 36000 )& (bank_lone_train['Term_Short Term']==1))| \n",
    "                                  (bank_lone_train['Term_Short Term']==0)]\n",
    "\n",
    "bank_lone_test = bank_lone_test.loc[bank_lone_test['Monthly_Debt'] <= 44500,:]\n",
    "bank_lone_test = bank_lone_test[((bank_lone_test['Monthly_Debt'] <= 36000 )& \n",
    "                                   (bank_lone_test['Term_Short Term']==1))| \n",
    "                                  (bank_lone_test['Term_Short Term']==0)]"
   ]
  },
  {
   "cell_type": "code",
   "execution_count": 44,
   "metadata": {
    "collapsed": true
   },
   "outputs": [],
   "source": [
    "bank_lone_train = bank_lone_train.loc[bank_lone_train['Current_Credit_Balance'] <= 760000,:]\n",
    "bank_lone_train = bank_lone_train[((bank_lone_train['Current_Credit_Balance'] <= 504000 )& \n",
    "                                   (bank_lone_train['Term_Short Term']==1))| (bank_lone_train['Term_Short Term']==0)]\n",
    "\n",
    "bank_lone_test = bank_lone_test.loc[bank_lone_test['Current_Credit_Balance'] <= 760000,:]\n",
    "bank_lone_test = bank_lone_test[((bank_lone_test['Current_Credit_Balance'] <= 504000 )& \n",
    "                                   (bank_lone_test['Term_Short Term']==1))| \n",
    "                                  (bank_lone_test['Term_Short Term']==0)]"
   ]
  },
  {
   "cell_type": "code",
   "execution_count": 45,
   "metadata": {
    "collapsed": true
   },
   "outputs": [],
   "source": [
    "bank_lone_train = bank_lone_train.loc[bank_lone_train['Maximum_Open_Credit'] <= 1400000,:]\n",
    "bank_lone_train = bank_lone_train[((bank_lone_train['Maximum_Open_Credit'] <= 990000 )& \n",
    "                                   (bank_lone_train['Term_Short Term']==1))| (bank_lone_train['Term_Short Term']==0)]\n",
    "\n",
    "bank_lone_test = bank_lone_test.loc[bank_lone_test['Maximum_Open_Credit'] <= 1400000,:]\n",
    "bank_lone_test = bank_lone_test[((bank_lone_test['Maximum_Open_Credit'] <= 990000 )& \n",
    "                                   (bank_lone_test['Term_Short Term']==1))| \n",
    "                                  (bank_lone_test['Term_Short Term']==0)]"
   ]
  },
  {
   "cell_type": "code",
   "execution_count": 46,
   "metadata": {
    "collapsed": true
   },
   "outputs": [],
   "source": [
    "X_train = bank_lone_train.drop(['Term_Short Term','Loan_ID','Customer_ID',\n",
    "                                'Credit_Score', 'Years_of_Credit_History', \n",
    "                                'Number_of_Credit_Problems', 'Number_of_Open_Accounts',\n",
    "                                'Bankruptcies'], axis = 1)\n",
    "y_train = bank_lone_train['Term_Short Term']\n",
    "X_test = bank_lone_test.drop(['Term_Short Term','Loan_ID','Customer_ID',\n",
    "                                'Credit_Score', 'Years_of_Credit_History', \n",
    "                                'Number_of_Credit_Problems', 'Number_of_Open_Accounts',\n",
    "                                'Bankruptcies'], axis = 1)\n",
    "y_test = bank_lone_test['Term_Short Term']"
   ]
  },
  {
   "cell_type": "code",
   "execution_count": 47,
   "metadata": {},
   "outputs": [
    {
     "data": {
      "text/html": [
       "<table class=\"simpletable\">\n",
       "<caption>OLS Regression Results</caption>\n",
       "<tr>\n",
       "  <th>Dep. Variable:</th>     <td>Term_Short Term</td> <th>  R-squared (uncentered):</th>      <td> -48.324</td> \n",
       "</tr>\n",
       "<tr>\n",
       "  <th>Model:</th>                   <td>OLS</td>       <th>  Adj. R-squared (uncentered):</th> <td> -48.376</td> \n",
       "</tr>\n",
       "<tr>\n",
       "  <th>Method:</th>             <td>Least Squares</td>  <th>  F-statistic:       </th>          <td>  -941.7</td> \n",
       "</tr>\n",
       "<tr>\n",
       "  <th>Date:</th>             <td>Tue, 17 May 2022</td> <th>  Prob (F-statistic):</th>           <td>  1.00</td>  \n",
       "</tr>\n",
       "<tr>\n",
       "  <th>Time:</th>                 <td>10:18:50</td>     <th>  Log-Likelihood:    </th>          <td> -14633.</td> \n",
       "</tr>\n",
       "<tr>\n",
       "  <th>No. Observations:</th>      <td> 32713</td>      <th>  AIC:               </th>          <td>2.933e+04</td>\n",
       "</tr>\n",
       "<tr>\n",
       "  <th>Df Residuals:</th>          <td> 32679</td>      <th>  BIC:               </th>          <td>2.962e+04</td>\n",
       "</tr>\n",
       "<tr>\n",
       "  <th>Df Model:</th>              <td>    34</td>      <th>                     </th>              <td> </td>    \n",
       "</tr>\n",
       "<tr>\n",
       "  <th>Covariance Type:</th>      <td>nonrobust</td>    <th>                     </th>              <td> </td>    \n",
       "</tr>\n",
       "</table>\n",
       "<table class=\"simpletable\">\n",
       "<tr>\n",
       "                 <td></td>                   <th>coef</th>     <th>std err</th>      <th>t</th>      <th>P>|t|</th>  <th>[0.025</th>    <th>0.975]</th>  \n",
       "</tr>\n",
       "<tr>\n",
       "  <th>Current_Loan_Amount</th>            <td>-1.545e-06</td> <td> 1.69e-08</td> <td>  -91.578</td> <td> 0.000</td> <td>-1.58e-06</td> <td>-1.51e-06</td>\n",
       "</tr>\n",
       "<tr>\n",
       "  <th>Annual_Income</th>                  <td> 5.935e-08</td> <td> 5.65e-09</td> <td>   10.500</td> <td> 0.000</td> <td> 4.83e-08</td> <td> 7.04e-08</td>\n",
       "</tr>\n",
       "<tr>\n",
       "  <th>Monthly_Debt</th>                   <td>-2.882e-06</td> <td> 3.19e-07</td> <td>   -9.036</td> <td> 0.000</td> <td>-3.51e-06</td> <td>-2.26e-06</td>\n",
       "</tr>\n",
       "<tr>\n",
       "  <th>Current_Credit_Balance</th>         <td>-5.766e-08</td> <td> 2.36e-08</td> <td>   -2.448</td> <td> 0.014</td> <td>-1.04e-07</td> <td>-1.15e-08</td>\n",
       "</tr>\n",
       "<tr>\n",
       "  <th>Maximum_Open_Credit</th>            <td>-7.519e-08</td> <td> 1.19e-08</td> <td>   -6.311</td> <td> 0.000</td> <td>-9.85e-08</td> <td>-5.18e-08</td>\n",
       "</tr>\n",
       "<tr>\n",
       "  <th>Tax_Liens</th>                      <td>    0.0096</td> <td>    0.008</td> <td>    1.174</td> <td> 0.241</td> <td>   -0.006</td> <td>    0.026</td>\n",
       "</tr>\n",
       "<tr>\n",
       "  <th>Home_Ownership_Home Mortgage</th>   <td>    0.9325</td> <td>    0.020</td> <td>   45.955</td> <td> 0.000</td> <td>    0.893</td> <td>    0.972</td>\n",
       "</tr>\n",
       "<tr>\n",
       "  <th>Home_Ownership_Own Home</th>        <td>    0.9586</td> <td>    0.021</td> <td>   45.944</td> <td> 0.000</td> <td>    0.918</td> <td>    0.999</td>\n",
       "</tr>\n",
       "<tr>\n",
       "  <th>Home_Ownership_Rent</th>            <td>    0.9762</td> <td>    0.020</td> <td>   49.223</td> <td> 0.000</td> <td>    0.937</td> <td>    1.015</td>\n",
       "</tr>\n",
       "<tr>\n",
       "  <th>Purpose_Buy House</th>              <td>    0.0469</td> <td>    0.032</td> <td>    1.455</td> <td> 0.146</td> <td>   -0.016</td> <td>    0.110</td>\n",
       "</tr>\n",
       "<tr>\n",
       "  <th>Purpose_Buy a Car</th>              <td>   -0.0315</td> <td>    0.025</td> <td>   -1.237</td> <td> 0.216</td> <td>   -0.081</td> <td>    0.018</td>\n",
       "</tr>\n",
       "<tr>\n",
       "  <th>Purpose_Debt Consolidation</th>     <td>    0.1189</td> <td>    0.018</td> <td>    6.683</td> <td> 0.000</td> <td>    0.084</td> <td>    0.154</td>\n",
       "</tr>\n",
       "<tr>\n",
       "  <th>Purpose_Educational Expenses</th>   <td>   -0.0339</td> <td>    0.070</td> <td>   -0.483</td> <td> 0.629</td> <td>   -0.172</td> <td>    0.104</td>\n",
       "</tr>\n",
       "<tr>\n",
       "  <th>Purpose_Home Improvements</th>      <td>    0.0575</td> <td>    0.020</td> <td>    2.896</td> <td> 0.004</td> <td>    0.019</td> <td>    0.096</td>\n",
       "</tr>\n",
       "<tr>\n",
       "  <th>Purpose_Medical Bills</th>          <td>    0.0450</td> <td>    0.027</td> <td>    1.651</td> <td> 0.099</td> <td>   -0.008</td> <td>    0.098</td>\n",
       "</tr>\n",
       "<tr>\n",
       "  <th>Purpose_Other</th>                  <td>    0.0415</td> <td>    0.019</td> <td>    2.193</td> <td> 0.028</td> <td>    0.004</td> <td>    0.079</td>\n",
       "</tr>\n",
       "<tr>\n",
       "  <th>Purpose_Take a Trip</th>            <td>    0.3823</td> <td>    0.031</td> <td>   12.244</td> <td> 0.000</td> <td>    0.321</td> <td>    0.444</td>\n",
       "</tr>\n",
       "<tr>\n",
       "  <th>Purpose_major_purchase</th>         <td>   -0.0168</td> <td>    0.039</td> <td>   -0.427</td> <td> 0.670</td> <td>   -0.094</td> <td>    0.060</td>\n",
       "</tr>\n",
       "<tr>\n",
       "  <th>Purpose_moving</th>                 <td>    0.0414</td> <td>    0.066</td> <td>    0.631</td> <td> 0.528</td> <td>   -0.087</td> <td>    0.170</td>\n",
       "</tr>\n",
       "<tr>\n",
       "  <th>Purpose_renewable_energy</th>       <td>    0.0514</td> <td>    0.268</td> <td>    0.191</td> <td> 0.848</td> <td>   -0.475</td> <td>    0.577</td>\n",
       "</tr>\n",
       "<tr>\n",
       "  <th>Purpose_small_business</th>         <td>    0.0546</td> <td>    0.047</td> <td>    1.166</td> <td> 0.244</td> <td>   -0.037</td> <td>    0.147</td>\n",
       "</tr>\n",
       "<tr>\n",
       "  <th>Purpose_vacation</th>               <td>    0.0729</td> <td>    0.078</td> <td>    0.937</td> <td> 0.349</td> <td>   -0.080</td> <td>    0.225</td>\n",
       "</tr>\n",
       "<tr>\n",
       "  <th>Purpose_wedding</th>                <td>    0.1790</td> <td>    0.065</td> <td>    2.767</td> <td> 0.006</td> <td>    0.052</td> <td>    0.306</td>\n",
       "</tr>\n",
       "<tr>\n",
       "  <th>Loan_Status_Fully Paid</th>         <td>    0.0886</td> <td>    0.005</td> <td>   17.738</td> <td> 0.000</td> <td>    0.079</td> <td>    0.098</td>\n",
       "</tr>\n",
       "<tr>\n",
       "  <th>Years_in_current_job_10+ years</th> <td>    0.0197</td> <td>    0.009</td> <td>    2.194</td> <td> 0.028</td> <td>    0.002</td> <td>    0.037</td>\n",
       "</tr>\n",
       "<tr>\n",
       "  <th>Years_in_current_job_2 years</th>   <td>    0.0262</td> <td>    0.011</td> <td>    2.473</td> <td> 0.013</td> <td>    0.005</td> <td>    0.047</td>\n",
       "</tr>\n",
       "<tr>\n",
       "  <th>Years_in_current_job_3 years</th>   <td>    0.0244</td> <td>    0.011</td> <td>    2.258</td> <td> 0.024</td> <td>    0.003</td> <td>    0.046</td>\n",
       "</tr>\n",
       "<tr>\n",
       "  <th>Years_in_current_job_4 years</th>   <td>    0.0342</td> <td>    0.012</td> <td>    2.948</td> <td> 0.003</td> <td>    0.011</td> <td>    0.057</td>\n",
       "</tr>\n",
       "<tr>\n",
       "  <th>Years_in_current_job_5 years</th>   <td>    0.0289</td> <td>    0.011</td> <td>    2.552</td> <td> 0.011</td> <td>    0.007</td> <td>    0.051</td>\n",
       "</tr>\n",
       "<tr>\n",
       "  <th>Years_in_current_job_6 years</th>   <td>    0.0354</td> <td>    0.012</td> <td>    2.986</td> <td> 0.003</td> <td>    0.012</td> <td>    0.059</td>\n",
       "</tr>\n",
       "<tr>\n",
       "  <th>Years_in_current_job_7 years</th>   <td>    0.0224</td> <td>    0.012</td> <td>    1.867</td> <td> 0.062</td> <td>   -0.001</td> <td>    0.046</td>\n",
       "</tr>\n",
       "<tr>\n",
       "  <th>Years_in_current_job_8 years</th>   <td>    0.0253</td> <td>    0.013</td> <td>    1.991</td> <td> 0.046</td> <td>    0.000</td> <td>    0.050</td>\n",
       "</tr>\n",
       "<tr>\n",
       "  <th>Years_in_current_job_9 years</th>   <td>    0.0047</td> <td>    0.014</td> <td>    0.345</td> <td> 0.730</td> <td>   -0.022</td> <td>    0.031</td>\n",
       "</tr>\n",
       "<tr>\n",
       "  <th>Years_in_current_job_< 1 year</th>  <td>    0.0119</td> <td>    0.011</td> <td>    1.097</td> <td> 0.272</td> <td>   -0.009</td> <td>    0.033</td>\n",
       "</tr>\n",
       "</table>\n",
       "<table class=\"simpletable\">\n",
       "<tr>\n",
       "  <th>Omnibus:</th>       <td>1855.322</td> <th>  Durbin-Watson:     </th> <td>   1.998</td>\n",
       "</tr>\n",
       "<tr>\n",
       "  <th>Prob(Omnibus):</th>  <td> 0.000</td>  <th>  Jarque-Bera (JB):  </th> <td>2116.127</td>\n",
       "</tr>\n",
       "<tr>\n",
       "  <th>Skew:</th>           <td>-0.609</td>  <th>  Prob(JB):          </th> <td>    0.00</td>\n",
       "</tr>\n",
       "<tr>\n",
       "  <th>Kurtosis:</th>       <td> 2.738</td>  <th>  Cond. No.          </th> <td>1.73e+08</td>\n",
       "</tr>\n",
       "</table><br/><br/>Notes:<br/>[1] R² is computed without centering (uncentered) since the model does not contain a constant.<br/>[2] Standard Errors assume that the covariance matrix of the errors is correctly specified.<br/>[3] The condition number is large, 1.73e+08. This might indicate that there are<br/>strong multicollinearity or other numerical problems."
      ],
      "text/plain": [
       "<class 'statsmodels.iolib.summary.Summary'>\n",
       "\"\"\"\n",
       "                                 OLS Regression Results                                \n",
       "=======================================================================================\n",
       "Dep. Variable:        Term_Short Term   R-squared (uncentered):                 -48.324\n",
       "Model:                            OLS   Adj. R-squared (uncentered):            -48.376\n",
       "Method:                 Least Squares   F-statistic:                             -941.7\n",
       "Date:                Tue, 17 May 2022   Prob (F-statistic):                        1.00\n",
       "Time:                        10:18:50   Log-Likelihood:                         -14633.\n",
       "No. Observations:               32713   AIC:                                  2.933e+04\n",
       "Df Residuals:                   32679   BIC:                                  2.962e+04\n",
       "Df Model:                          34                                                  \n",
       "Covariance Type:            nonrobust                                                  \n",
       "==================================================================================================\n",
       "                                     coef    std err          t      P>|t|      [0.025      0.975]\n",
       "--------------------------------------------------------------------------------------------------\n",
       "Current_Loan_Amount            -1.545e-06   1.69e-08    -91.578      0.000   -1.58e-06   -1.51e-06\n",
       "Annual_Income                   5.935e-08   5.65e-09     10.500      0.000    4.83e-08    7.04e-08\n",
       "Monthly_Debt                   -2.882e-06   3.19e-07     -9.036      0.000   -3.51e-06   -2.26e-06\n",
       "Current_Credit_Balance         -5.766e-08   2.36e-08     -2.448      0.014   -1.04e-07   -1.15e-08\n",
       "Maximum_Open_Credit            -7.519e-08   1.19e-08     -6.311      0.000   -9.85e-08   -5.18e-08\n",
       "Tax_Liens                          0.0096      0.008      1.174      0.241      -0.006       0.026\n",
       "Home_Ownership_Home Mortgage       0.9325      0.020     45.955      0.000       0.893       0.972\n",
       "Home_Ownership_Own Home            0.9586      0.021     45.944      0.000       0.918       0.999\n",
       "Home_Ownership_Rent                0.9762      0.020     49.223      0.000       0.937       1.015\n",
       "Purpose_Buy House                  0.0469      0.032      1.455      0.146      -0.016       0.110\n",
       "Purpose_Buy a Car                 -0.0315      0.025     -1.237      0.216      -0.081       0.018\n",
       "Purpose_Debt Consolidation         0.1189      0.018      6.683      0.000       0.084       0.154\n",
       "Purpose_Educational Expenses      -0.0339      0.070     -0.483      0.629      -0.172       0.104\n",
       "Purpose_Home Improvements          0.0575      0.020      2.896      0.004       0.019       0.096\n",
       "Purpose_Medical Bills              0.0450      0.027      1.651      0.099      -0.008       0.098\n",
       "Purpose_Other                      0.0415      0.019      2.193      0.028       0.004       0.079\n",
       "Purpose_Take a Trip                0.3823      0.031     12.244      0.000       0.321       0.444\n",
       "Purpose_major_purchase            -0.0168      0.039     -0.427      0.670      -0.094       0.060\n",
       "Purpose_moving                     0.0414      0.066      0.631      0.528      -0.087       0.170\n",
       "Purpose_renewable_energy           0.0514      0.268      0.191      0.848      -0.475       0.577\n",
       "Purpose_small_business             0.0546      0.047      1.166      0.244      -0.037       0.147\n",
       "Purpose_vacation                   0.0729      0.078      0.937      0.349      -0.080       0.225\n",
       "Purpose_wedding                    0.1790      0.065      2.767      0.006       0.052       0.306\n",
       "Loan_Status_Fully Paid             0.0886      0.005     17.738      0.000       0.079       0.098\n",
       "Years_in_current_job_10+ years     0.0197      0.009      2.194      0.028       0.002       0.037\n",
       "Years_in_current_job_2 years       0.0262      0.011      2.473      0.013       0.005       0.047\n",
       "Years_in_current_job_3 years       0.0244      0.011      2.258      0.024       0.003       0.046\n",
       "Years_in_current_job_4 years       0.0342      0.012      2.948      0.003       0.011       0.057\n",
       "Years_in_current_job_5 years       0.0289      0.011      2.552      0.011       0.007       0.051\n",
       "Years_in_current_job_6 years       0.0354      0.012      2.986      0.003       0.012       0.059\n",
       "Years_in_current_job_7 years       0.0224      0.012      1.867      0.062      -0.001       0.046\n",
       "Years_in_current_job_8 years       0.0253      0.013      1.991      0.046       0.000       0.050\n",
       "Years_in_current_job_9 years       0.0047      0.014      0.345      0.730      -0.022       0.031\n",
       "Years_in_current_job_< 1 year      0.0119      0.011      1.097      0.272      -0.009       0.033\n",
       "==============================================================================\n",
       "Omnibus:                     1855.322   Durbin-Watson:                   1.998\n",
       "Prob(Omnibus):                  0.000   Jarque-Bera (JB):             2116.127\n",
       "Skew:                          -0.609   Prob(JB):                         0.00\n",
       "Kurtosis:                       2.738   Cond. No.                     1.73e+08\n",
       "==============================================================================\n",
       "\n",
       "Notes:\n",
       "[1] R² is computed without centering (uncentered) since the model does not contain a constant.\n",
       "[2] Standard Errors assume that the covariance matrix of the errors is correctly specified.\n",
       "[3] The condition number is large, 1.73e+08. This might indicate that there are\n",
       "strong multicollinearity or other numerical problems.\n",
       "\"\"\""
      ]
     },
     "execution_count": 47,
     "metadata": {},
     "output_type": "execute_result"
    }
   ],
   "source": [
    "model = sm.OLS(y_train,X_train)\n",
    "fit = model.fit()\n",
    "fit.summary()"
   ]
  },
  {
   "cell_type": "code",
   "execution_count": 48,
   "metadata": {},
   "outputs": [
    {
     "data": {
      "text/plain": [
       "1    22879\n",
       "0     9834\n",
       "Name: Term_Short Term, dtype: int64"
      ]
     },
     "execution_count": 48,
     "metadata": {},
     "output_type": "execute_result"
    }
   ],
   "source": [
    "y_train.value_counts()"
   ]
  },
  {
   "cell_type": "code",
   "execution_count": 49,
   "metadata": {},
   "outputs": [
    {
     "name": "stdout",
     "output_type": "stream",
     "text": [
      "Long term 0: 9834\n",
      "Short term 1: 22879\n"
     ]
    }
   ],
   "source": [
    "long_term_0 = bank_lone_train[bank_lone_train['Term_Short Term'] == 0]\n",
    "short_term_1 = bank_lone_train[bank_lone_train['Term_Short Term'] == 1]\n",
    "print('Long term 0:', long_term_0.shape[0])\n",
    "print('Short term 1:', short_term_1.shape[0])"
   ]
  },
  {
   "cell_type": "markdown",
   "metadata": {},
   "source": [
    "# モデリング"
   ]
  },
  {
   "cell_type": "markdown",
   "metadata": {},
   "source": [
    "・ロジスティック"
   ]
  },
  {
   "cell_type": "code",
   "execution_count": 50,
   "metadata": {},
   "outputs": [
    {
     "name": "stdout",
     "output_type": "stream",
     "text": [
      "\n",
      " Best param after grid search:  {'C': 0.001, 'class_weight': {0: 2}}\n",
      " Best f1_score for cross validation:  0.7170806194365902\n"
     ]
    }
   ],
   "source": [
    "params = {'C': [0.001,0.01,0.1,1,10,100,1000], 'class_weight':[{0:0,0:0.01,0:0.1,0:0.5,0:1,0:10,0:2} ] }\n",
    "lr_grid = GridSearchCV(LogisticRegression(), param_grid = params, scoring='f1', cv = 5)\n",
    "lr_grid.fit(X_train, y_train)\n",
    "print('\\n Best param after grid search: ', lr_grid.best_params_ )\n",
    "print(' Best f1_score for cross validation: ',lr_grid.best_score_ )"
   ]
  },
  {
   "cell_type": "code",
   "execution_count": 51,
   "metadata": {},
   "outputs": [
    {
     "name": "stdout",
     "output_type": "stream",
     "text": [
      "\n",
      " Normal Logistic Regression Valdition F1: \n",
      " [0.80033913 0.8061049  0.80355209 0.81094844 0.80573385 0.81843397\n",
      " 0.81005587 0.80310211 0.79921943 0.80628498]\n",
      "\n",
      " Mean Normal Logistic Regression Valdition F1: \n",
      " 0.8063774752538592\n",
      "--------------------------------\n"
     ]
    }
   ],
   "source": [
    "LR = LogisticRegression(C= 0.001 ,solver='liblinear')\n",
    "kf = KFold(n_splits=10, random_state=42, shuffle=True)\n",
    "cr_f1 = cross_val_score(LR, X_train, y_train, scoring='f1', cv=kf)\n",
    "print('\\n Normal Logistic Regression Valdition F1: \\n',cr_f1)\n",
    "print('\\n Mean Normal Logistic Regression Valdition F1: \\n',cr_f1.mean())\n",
    "print('--------------------------------')"
   ]
  },
  {
   "cell_type": "code",
   "execution_count": 52,
   "metadata": {},
   "outputs": [
    {
     "name": "stdout",
     "output_type": "stream",
     "text": [
      "\n",
      " Balanced class weights Logistic Regression Valdition F1: \n",
      " [0.69856704 0.68117866 0.67982693 0.69860896 0.67910644 0.6945388\n",
      " 0.701063   0.67845829 0.68236553 0.68821192]\n",
      "\n",
      " Mean Balanced class weights Logistic Regression Valdition F1: \n",
      " 0.6881925584835079\n",
      "--------------------------------\n"
     ]
    }
   ],
   "source": [
    "lr_balanced = LogisticRegression(class_weight='balanced', solver='liblinear')\n",
    "cr_balnced_f1 = cross_val_score(lr_balanced, X_train, y_train, scoring='f1', cv=kf)\n",
    "print('\\n Balanced class weights Logistic Regression Valdition F1: \\n',cr_balnced_f1)\n",
    "print('\\n Mean Balanced class weights Logistic Regression Valdition F1: \\n',cr_balnced_f1.mean())\n",
    "print('--------------------------------')\n"
   ]
  },
  {
   "cell_type": "code",
   "execution_count": 53,
   "metadata": {},
   "outputs": [
    {
     "name": "stdout",
     "output_type": "stream",
     "text": [
      "\n",
      " Class weights Logistic Regression Valdition F1: \n",
      " [0.72161895 0.71736375 0.71184687 0.72370057 0.70962851 0.72622334\n",
      " 0.72863568 0.70393058 0.71534717 0.71443193]\n",
      "\n",
      " Mean Class weights Logistic Regression Valdition F1: \n",
      " 0.71727273536161\n",
      "--------------------------------\n"
     ]
    }
   ],
   "source": [
    "lr_4x = LogisticRegression(C= 0.001, class_weight={0 : 2, 1 : 1}, solver='liblinear')\n",
    "cr_weghts_f1 = cross_val_score(lr_4x, X_train, y_train, scoring='f1', cv=kf)\n",
    "print('\\n Class weights Logistic Regression Valdition F1: \\n',cr_weghts_f1)\n",
    "print('\\n Mean Class weights Logistic Regression Valdition F1: \\n',cr_weghts_f1.mean())\n",
    "print('--------------------------------')"
   ]
  },
  {
   "cell_type": "code",
   "execution_count": 54,
   "metadata": {},
   "outputs": [
    {
     "name": "stdout",
     "output_type": "stream",
     "text": [
      "\n",
      " Smote Logistic Regression Valdition F1: \n",
      " [0.69954011 0.68291391 0.68320302 0.70020534 0.68082874 0.69908973\n",
      " 0.70289855 0.67895707 0.6846318  0.68903567]\n",
      "\n",
      " Mean Smote Logistic Regression Valdition F1: \n",
      " 0.6901303941714383\n"
     ]
    }
   ],
   "source": [
    "imba_pipeline = make_pipeline(SMOTE(random_state=42), \n",
    "                              LogisticRegression(C= 0.001, solver='liblinear'))\n",
    "\n",
    "imba_val = cross_val_score(imba_pipeline, X_train, y_train, scoring='f1', cv=kf)\n",
    "print('\\n Smote Logistic Regression Valdition F1: \\n', imba_val)\n",
    "print('\\n Mean Smote Logistic Regression Valdition F1: \\n', imba_val.mean())"
   ]
  },
  {
   "cell_type": "code",
   "execution_count": 55,
   "metadata": {},
   "outputs": [
    {
     "name": "stdout",
     "output_type": "stream",
     "text": [
      "Default threshold:\n",
      "Precision: 0.8209,   Recall: 0.5669\n"
     ]
    }
   ],
   "source": [
    "LR.fit(X_train, y_train)\n",
    "y_predict = (LR.predict_proba(X_train)[:, 1] >= 0.65)\n",
    "\n",
    "print(\"Default threshold:\")\n",
    "print(\"Precision: {:6.4f},   Recall: {:6.4f}\".format(precision_score(y_train, y_predict), \n",
    "                                                     recall_score(y_train, y_predict)))"
   ]
  },
  {
   "cell_type": "code",
   "execution_count": 56,
   "metadata": {
    "collapsed": true
   },
   "outputs": [],
   "source": [
    "y_predict = (LR.predict_proba(X_train)[:, 1] >= 0.624)\n",
    "loan_confusion = confusion_matrix(y_train, y_predict)\n",
    "sns.heatmap(loan_confusion , cmap = 'pink_r', annot = True , square = True , fmt = 'd',\n",
    "           xticklabels = ['long term','short term'],\n",
    "           yticklabels = ['long term','short term'])\n",
    "plt.title('Train Confusion Matrix',fontsize = 15)\n",
    "plt.xlabel('prediction')\n",
    "plt.ylabel('actual');"
   ]
  },
  {
   "cell_type": "markdown",
   "metadata": {
    "collapsed": true
   },
   "source": [
    "・決定木"
   ]
  },
  {
   "cell_type": "code",
   "execution_count": 57,
   "metadata": {
    "collapsed": true
   },
   "outputs": [],
   "source": [
    "Decision_Tree = DecisionTreeClassifier(max_depth = 8)\n",
    "Decision_Tree.fit(X_train, y_train)\n",
    "scores = cross_val_score(Decision_Tree, X_train, y_train, cv=5, scoring='f1')"
   ]
  },
  {
   "cell_type": "code",
   "execution_count": 58,
   "metadata": {
    "collapsed": true
   },
   "outputs": [],
   "source": [
    "dt_bal = DecisionTreeClassifier(max_depth = 8, class_weight='balanced')\n",
    "dt_bal.fit(X_train, y_train)\n",
    "scores = cross_val_score(dt_bal, X_train, y_train, cv=5, scoring='f1')"
   ]
  },
  {
   "cell_type": "code",
   "execution_count": 59,
   "metadata": {},
   "outputs": [
    {
     "data": {
      "text/plain": [
       "DecisionTreeClassifier(class_weight={0: 10, 1: 1})"
      ]
     },
     "execution_count": 59,
     "metadata": {},
     "output_type": "execute_result"
    }
   ],
   "source": [
    "dt_wtd = DecisionTreeClassifier(class_weight= {0 : 10, 1 : 1})\n",
    "scores = cross_val_score(dt_wtd, X_train, y_train, cv=5, scoring='f1')\n",
    "dt_wtd.fit(X_train, y_train)"
   ]
  },
  {
   "cell_type": "code",
   "execution_count": 63,
   "metadata": {},
   "outputs": [
    {
     "name": "stdout",
     "output_type": "stream",
     "text": [
      "Normal Decision Tree Valdition F1: 0.8188182126297082\n",
      "Balanced class weights Decision Tree Valdition F1: 0.8188182126297082\n",
      "10:1 class weights Decision Tree Valdition F1: 0.8188182126297082\n",
      "\n",
      " Best param after grid search {'criterion': 'entropy', 'max_depth': 8}\n",
      "\n",
      " Best score after grid search 0.8702528429069607\n"
     ]
    }
   ],
   "source": [
    "tree_param = {'criterion':['gini','entropy'],\n",
    "              'max_depth':[4,5,6,7,8,9,10,11,12,15,20,30,40,50,70,90,120,150]}\n",
    "\n",
    "gd_sr = GridSearchCV(DecisionTreeClassifier(), param_grid=tree_param,scoring='f1',cv=5,n_jobs=-1)\n",
    "gd_sr.fit(X_train, y_train)\n",
    "best_parameters = gd_sr.best_params_\n",
    "print('Normal Decision Tree Valdition F1:',scores.mean())\n",
    "print('Balanced class weights Decision Tree Valdition F1:',scores.mean())\n",
    "print('10:1 class weights Decision Tree Valdition F1:',scores.mean())\n",
    "print('\\n Best param after grid search', best_parameters)\n",
    "print('\\n Best score after grid search', gd_sr.best_score_)"
   ]
  },
  {
   "cell_type": "code",
   "execution_count": 64,
   "metadata": {},
   "outputs": [
    {
     "name": "stdout",
     "output_type": "stream",
     "text": [
      "Default threshold:\n",
      "Precision: 0.8434,   Recall: 0.8825\n"
     ]
    }
   ],
   "source": [
    "y_predict = (Decision_Tree.predict_proba(X_train)[:, 1] >= 0.5569)\n",
    "\n",
    "print(\"Default threshold:\")\n",
    "print(\"Precision: {:6.4f},   Recall: {:6.4f}\".format(precision_score(y_train, y_predict), \n",
    "                                                     recall_score(y_train, y_predict)))"
   ]
  },
  {
   "cell_type": "markdown",
   "metadata": {},
   "source": [
    "・ランダムフォレスト"
   ]
  },
  {
   "cell_type": "code",
   "execution_count": 65,
   "metadata": {
    "collapsed": true
   },
   "outputs": [],
   "source": [
    "Random_Forest = RandomForestClassifier(n_estimators = 5, random_state=1)\n",
    "Random_Forest.fit(X_train, y_train)\n",
    "scores = cross_val_score(Random_Forest, X_train, y_train, cv=10, scoring='f1')"
   ]
  },
  {
   "cell_type": "code",
   "execution_count": 66,
   "metadata": {
    "collapsed": true
   },
   "outputs": [],
   "source": [
    "rf_bal = RandomForestClassifier(n_estimators = 10, random_state=1, class_weight='balanced')\n",
    "rf_bal.fit(X_train, y_train)\n",
    "scores = cross_val_score(rf_bal, X_train, y_train, cv=10, scoring='f1')"
   ]
  },
  {
   "cell_type": "code",
   "execution_count": 68,
   "metadata": {},
   "outputs": [
    {
     "name": "stdout",
     "output_type": "stream",
     "text": [
      "\n",
      " Mean Normal Random Forest Valdition F1:  \n",
      " 0.8467494887782726\n",
      "\n",
      " Mean Balanced class weights Random Forest Valdition F1: \n",
      " 0.8467494887782726\n",
      "\n",
      " 2:1 class weights Random Forest Valdition F1: \n",
      " 0.8467494887782726\n"
     ]
    }
   ],
   "source": [
    "rf_wtd = RandomForestClassifier(n_estimators = 10, random_state=1, class_weight= {0 : 2, 1 : 1})\n",
    "rf_wtd.fit(X_train, y_train)\n",
    "scores = cross_val_score(rf_wtd, X_train, y_train, cv=10, scoring='f1')\n",
    "print('\\n Mean Normal Random Forest Valdition F1:  \\n',scores.mean())\n",
    "print('\\n Mean Balanced class weights Random Forest Valdition F1: \\n',scores.mean())\n",
    "print('\\n 2:1 class weights Random Forest Valdition F1: \\n',scores.mean())"
   ]
  },
  {
   "cell_type": "code",
   "execution_count": 70,
   "metadata": {},
   "outputs": [
    {
     "name": "stdout",
     "output_type": "stream",
     "text": [
      "Default threshold:\n",
      "Precision: 0.9961,   Recall: 0.9338\n"
     ]
    }
   ],
   "source": [
    "y_predict = (Random_Forest.predict_proba(X_train)[:, 1] >= 0.66)\n",
    "print(\"Default threshold:\")\n",
    "print(\"Precision: {:6.4f},   Recall: {:6.4f}\".format(precision_score(y_train, y_predict), \n",
    "                                                     recall_score(y_train, y_predict)))"
   ]
  },
  {
   "cell_type": "markdown",
   "metadata": {},
   "source": [
    "・XGBoost"
   ]
  },
  {
   "cell_type": "code",
   "execution_count": 71,
   "metadata": {},
   "outputs": [
    {
     "name": "stderr",
     "output_type": "stream",
     "text": [
      "/Users/forrest/.pyenv/versions/anaconda3-5.0.1/lib/python3.6/site-packages/xgboost/sklearn.py:1224: UserWarning: The use of label encoder in XGBClassifier is deprecated and will be removed in a future release. To remove this warning, do the following: 1) Pass option use_label_encoder=False when constructing XGBClassifier object; and 2) Encode your labels (y) as integers starting with 0, i.e. 0, 1, 2, ..., [num_class - 1].\n",
      "  warnings.warn(label_encoder_deprecation_msg, UserWarning)\n"
     ]
    },
    {
     "name": "stdout",
     "output_type": "stream",
     "text": [
      "[12:41:17] WARNING: /Users/runner/work/xgboost/xgboost/src/learner.cc:1115: Starting in XGBoost 1.3.0, the default evaluation metric used with the objective 'binary:logistic' was changed from 'error' to 'logloss'. Explicitly set eval_metric if you'd like to restore the old behavior.\n"
     ]
    },
    {
     "name": "stderr",
     "output_type": "stream",
     "text": [
      "/Users/forrest/.pyenv/versions/anaconda3-5.0.1/lib/python3.6/site-packages/xgboost/sklearn.py:1224: UserWarning: The use of label encoder in XGBClassifier is deprecated and will be removed in a future release. To remove this warning, do the following: 1) Pass option use_label_encoder=False when constructing XGBClassifier object; and 2) Encode your labels (y) as integers starting with 0, i.e. 0, 1, 2, ..., [num_class - 1].\n",
      "  warnings.warn(label_encoder_deprecation_msg, UserWarning)\n"
     ]
    },
    {
     "name": "stdout",
     "output_type": "stream",
     "text": [
      "[12:41:19] WARNING: /Users/runner/work/xgboost/xgboost/src/learner.cc:1115: Starting in XGBoost 1.3.0, the default evaluation metric used with the objective 'binary:logistic' was changed from 'error' to 'logloss'. Explicitly set eval_metric if you'd like to restore the old behavior.\n"
     ]
    },
    {
     "name": "stderr",
     "output_type": "stream",
     "text": [
      "/Users/forrest/.pyenv/versions/anaconda3-5.0.1/lib/python3.6/site-packages/xgboost/sklearn.py:1224: UserWarning: The use of label encoder in XGBClassifier is deprecated and will be removed in a future release. To remove this warning, do the following: 1) Pass option use_label_encoder=False when constructing XGBClassifier object; and 2) Encode your labels (y) as integers starting with 0, i.e. 0, 1, 2, ..., [num_class - 1].\n",
      "  warnings.warn(label_encoder_deprecation_msg, UserWarning)\n"
     ]
    },
    {
     "name": "stdout",
     "output_type": "stream",
     "text": [
      "[12:41:20] WARNING: /Users/runner/work/xgboost/xgboost/src/learner.cc:1115: Starting in XGBoost 1.3.0, the default evaluation metric used with the objective 'binary:logistic' was changed from 'error' to 'logloss'. Explicitly set eval_metric if you'd like to restore the old behavior.\n"
     ]
    },
    {
     "name": "stderr",
     "output_type": "stream",
     "text": [
      "/Users/forrest/.pyenv/versions/anaconda3-5.0.1/lib/python3.6/site-packages/xgboost/sklearn.py:1224: UserWarning: The use of label encoder in XGBClassifier is deprecated and will be removed in a future release. To remove this warning, do the following: 1) Pass option use_label_encoder=False when constructing XGBClassifier object; and 2) Encode your labels (y) as integers starting with 0, i.e. 0, 1, 2, ..., [num_class - 1].\n",
      "  warnings.warn(label_encoder_deprecation_msg, UserWarning)\n"
     ]
    },
    {
     "name": "stdout",
     "output_type": "stream",
     "text": [
      "[12:41:22] WARNING: /Users/runner/work/xgboost/xgboost/src/learner.cc:1115: Starting in XGBoost 1.3.0, the default evaluation metric used with the objective 'binary:logistic' was changed from 'error' to 'logloss'. Explicitly set eval_metric if you'd like to restore the old behavior.\n"
     ]
    },
    {
     "name": "stderr",
     "output_type": "stream",
     "text": [
      "/Users/forrest/.pyenv/versions/anaconda3-5.0.1/lib/python3.6/site-packages/xgboost/sklearn.py:1224: UserWarning: The use of label encoder in XGBClassifier is deprecated and will be removed in a future release. To remove this warning, do the following: 1) Pass option use_label_encoder=False when constructing XGBClassifier object; and 2) Encode your labels (y) as integers starting with 0, i.e. 0, 1, 2, ..., [num_class - 1].\n",
      "  warnings.warn(label_encoder_deprecation_msg, UserWarning)\n"
     ]
    },
    {
     "name": "stdout",
     "output_type": "stream",
     "text": [
      "[12:41:24] WARNING: /Users/runner/work/xgboost/xgboost/src/learner.cc:1115: Starting in XGBoost 1.3.0, the default evaluation metric used with the objective 'binary:logistic' was changed from 'error' to 'logloss'. Explicitly set eval_metric if you'd like to restore the old behavior.\n"
     ]
    },
    {
     "name": "stderr",
     "output_type": "stream",
     "text": [
      "/Users/forrest/.pyenv/versions/anaconda3-5.0.1/lib/python3.6/site-packages/xgboost/sklearn.py:1224: UserWarning: The use of label encoder in XGBClassifier is deprecated and will be removed in a future release. To remove this warning, do the following: 1) Pass option use_label_encoder=False when constructing XGBClassifier object; and 2) Encode your labels (y) as integers starting with 0, i.e. 0, 1, 2, ..., [num_class - 1].\n",
      "  warnings.warn(label_encoder_deprecation_msg, UserWarning)\n"
     ]
    },
    {
     "name": "stdout",
     "output_type": "stream",
     "text": [
      "[12:41:26] WARNING: /Users/runner/work/xgboost/xgboost/src/learner.cc:1115: Starting in XGBoost 1.3.0, the default evaluation metric used with the objective 'binary:logistic' was changed from 'error' to 'logloss'. Explicitly set eval_metric if you'd like to restore the old behavior.\n"
     ]
    }
   ],
   "source": [
    "X_train.columns = X_train.columns.str.replace('<','less').str.replace(' ','_')\n",
    "\n",
    "xgboost = XGBClassifier(n_estimators = 100, learning_rate = 0.05)\n",
    "xgboost.fit(X_train, y_train)\n",
    "accuracies = cross_val_score(estimator = xgboost, X = X_train, y = y_train, cv = 5, scoring='f1')"
   ]
  },
  {
   "cell_type": "code",
   "execution_count": 72,
   "metadata": {},
   "outputs": [
    {
     "name": "stdout",
     "output_type": "stream",
     "text": [
      "Mean f1_score XGBoost for cross validation :  0.873151250557083\n"
     ]
    }
   ],
   "source": [
    "print('Mean f1_score XGBoost for cross validation : ',accuracies.mean())"
   ]
  },
  {
   "cell_type": "code",
   "execution_count": 73,
   "metadata": {},
   "outputs": [
    {
     "name": "stdout",
     "output_type": "stream",
     "text": [
      "Default threshold:\n",
      "Precision: 0.7634,   Recall: 1.0000\n"
     ]
    }
   ],
   "source": [
    "y_predict = (xgboost.predict_proba(X_train)[:, 1] >= 0.1)\n",
    "\n",
    "print(\"Default threshold:\")\n",
    "print(\"Precision: {:6.4f},   Recall: {:6.4f}\".format(precision_score(y_train, y_predict), \n",
    "                                                     recall_score(y_train, y_predict)))"
   ]
  },
  {
   "cell_type": "markdown",
   "metadata": {},
   "source": [
    "# テスト"
   ]
  },
  {
   "cell_type": "code",
   "execution_count": 74,
   "metadata": {},
   "outputs": [
    {
     "name": "stdout",
     "output_type": "stream",
     "text": [
      "Test score for XGBoost:  0.8691032724181896\n"
     ]
    }
   ],
   "source": [
    "y_pred_ =xgboost.predict(X_test)\n",
    "y_pred_1 =xgboost.predict(X_train)\n",
    "scores_1 = metrics.f1_score(y_train, y_pred_1)\n",
    "scores = metrics.f1_score(y_test, y_pred_)\n",
    "print('Test score for XGBoost: ', scores)"
   ]
  }
 ],
 "metadata": {
  "kernelspec": {
   "display_name": "Python 3",
   "language": "python",
   "name": "python3"
  },
  "language_info": {
   "codemirror_mode": {
    "name": "ipython",
    "version": 3
   },
   "file_extension": ".py",
   "mimetype": "text/x-python",
   "name": "python",
   "nbconvert_exporter": "python",
   "pygments_lexer": "ipython3",
   "version": "3.6.3"
  }
 },
 "nbformat": 4,
 "nbformat_minor": 2
}
